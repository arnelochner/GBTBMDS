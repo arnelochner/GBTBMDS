{
 "cells": [
  {
   "cell_type": "code",
   "execution_count": 4,
   "metadata": {},
   "outputs": [],
   "source": [
    "import numpy as np\n",
    "import pickle\n",
    "import sys\n",
    "import os\n",
    "import matplotlib.pyplot as plt"
   ]
  },
  {
   "cell_type": "code",
   "execution_count": 5,
   "metadata": {},
   "outputs": [],
   "source": [
    "aggregated_awd_wikisum = \"../../transformed_attention_weights/wikisum\"\n",
    "aggregated_awd_multinews = \"../../transformed_attention_weights/multinews\""
   ]
  },
  {
   "cell_type": "code",
   "execution_count": 6,
   "metadata": {},
   "outputs": [],
   "source": [
    "wikisum_result_dict = pickle.load(open(os.path.join(aggregated_awd_wikisum,\"result_dict\"),\"rb\"))\n",
    "\n",
    "wikisum_cleaned_weight_matrix = np.load(os.path.join(aggregated_awd_wikisum, \"cleaned_weight_matrix.npy\"))"
   ]
  },
  {
   "cell_type": "code",
   "execution_count": 3,
   "metadata": {},
   "outputs": [],
   "source": [
    "\n",
    "\n",
    "\n",
    "multinews_result_dict = pickle.load(open(os.path.join(aggregated_awd_multinews,\"result_dict\"),\"rb\"))\n",
    "\n",
    "multinews_cleaned_weight_matrix = np.load(os.path.join(aggregated_awd_multinews, \"cleaned_weight_matrix.npy\"))"
   ]
  },
  {
   "cell_type": "code",
   "execution_count": 8,
   "metadata": {},
   "outputs": [],
   "source": [
    "def prepare_input(input_matrix, meta_information):\n",
    "    \n",
    "    decoding_layers = [[] for i in range(8)]\n",
    "    \n",
    "    multi_heads = [[] for i in range(8)]\n",
    "    \n",
    "    num_examples = input_matrix.shape[0]\n",
    "    \n",
    "    for idx in range(num_examples):\n",
    "        beam_length = meta_information[idx][0]\n",
    "        \n",
    "        \n",
    "        ex = input_matrix[idx,0,:int(beam_length-1),:,:,:]\n",
    "              \n",
    "       \n",
    "        \n",
    "        for j in range(8):\n",
    "            decoding_layers[j].extend(ex[:,j,:,:].reshape(-1,))\n",
    "            multi_heads[j].extend(ex[:,:,j,:].reshape(-1,))\n",
    "            \n",
    "    return decoding_layers, multi_heads\n",
    "        \n",
    "        "
   ]
  },
  {
   "cell_type": "code",
   "execution_count": 9,
   "metadata": {},
   "outputs": [],
   "source": [
    "def calculate_correlation(multi_heads, decoding_layers):    \n",
    "        \n",
    "    multi_head_corr = np.corrcoef(multi_heads)\n",
    "    \n",
    "    decoding_layers_corr = np.corrcoef(decoding_layers)\n",
    "    \n",
    "    print(f\"Multi-Head: mean {np.mean(multi_head_corr)} | min {np.min(multi_head_corr)} \")\n",
    "    \n",
    "    plt.figure()\n",
    "    plt.imshow(multi_head_corr)\n",
    "    plt.colorbar()\n",
    "    plt.savefig(\"multi_head_corr.pdf\")\n",
    "    plt.show()\n",
    "    \n",
    "    print(f\"Decoding-Layer: mean {np.mean(decoding_layers_corr)} | min {np.min(decoding_layers_corr)} \")\n",
    "    \n",
    "    plt.figure()\n",
    "    plt.imshow(decoding_layers_corr)\n",
    "    plt.colorbar()\n",
    "    plt.savefig(\"decoding_layer_corr.pdf\")\n",
    "    plt.show()\n",
    "    \n",
    "    \n",
    "\n",
    "    \n",
    "    return multi_head_corr, decoding_layers_corr\n",
    "    \n",
    "    "
   ]
  },
  {
   "cell_type": "code",
   "execution_count": 10,
   "metadata": {},
   "outputs": [],
   "source": [
    "wikisum_token_decoding,wikisum_token_multi_head  = prepare_input(wikisum_cleaned_weight_matrix[:,0,:,:,:,:][:,None,:,:,:,:], wikisum_result_dict[\"beam_length\"][:,0][:,None])"
   ]
  },
  {
   "cell_type": "code",
   "execution_count": 6,
   "metadata": {},
   "outputs": [],
   "source": [
    "multi_news_token_decoding,multi_news_token_multi_head  = prepare_input(multinews_cleaned_weight_matrix[:,0,:,:,:,:][:,None,:,:,:,:], multinews_result_dict[\"beam_length\"][:,0][:,None])\n",
    "\n"
   ]
  },
  {
   "cell_type": "code",
   "execution_count": 7,
   "metadata": {},
   "outputs": [
    {
     "name": "stdout",
     "output_type": "stream",
     "text": [
      "Multi-Head: mean 0.7182698501037554 | min 0.4910394129130611 \n"
     ]
    },
    {
     "data": {
      "image/png": "[encoded data removed]",
      "text/plain": [
       "<Figure size 432x288 with 2 Axes>"
      ]
     },
     "metadata": {
      "needs_background": "light"
     },
     "output_type": "display_data"
    },
    {
     "name": "stdout",
     "output_type": "stream",
     "text": [
      "Decoding-Layer: mean 0.5379603462671958 | min 0.24642496701856906 \n"
     ]
    },
    {
     "data": {
      "image/png": "[encoded data removed]",
      "text/plain": [
       "<Figure size 432x288 with 2 Axes>"
      ]
     },
     "metadata": {
      "needs_background": "light"
     },
     "output_type": "display_data"
    }
   ],
   "source": [
    "m_t_m,m_t_d = calculate_correlation(multi_news_token_multi_head, multi_news_token_decoding)"
   ]
  },
  {
   "cell_type": "code",
   "execution_count": 28,
   "metadata": {},
   "outputs": [
    {
     "name": "stdout",
     "output_type": "stream",
     "text": [
      "Multi-Head: mean 0.7192955274934009 | min 0.4911719322340138 \n"
     ]
    },
    {
     "data": {
      "image/png": "[encoded data removed]",
      "text/plain": [
       "<Figure size 432x288 with 2 Axes>"
      ]
     },
     "metadata": {
      "needs_background": "light"
     },
     "output_type": "display_data"
    },
    {
     "name": "stdout",
     "output_type": "stream",
     "text": [
      "Decoding-Layer: mean 0.5365844539681838 | min 0.2439005529791923 \n"
     ]
    },
    {
     "data": {
      "image/png": "[encoded data removed]",
      "text/plain": [
       "<Figure size 432x288 with 2 Axes>"
      ]
     },
     "metadata": {
      "needs_background": "light"
     },
     "output_type": "display_data"
    }
   ],
   "source": [
    "m_t_m,m_t_d = calculate_correlation(multi_news_token_multi_head, multi_news_token_decoding)"
   ]
  },
  {
   "cell_type": "code",
   "execution_count": 11,
   "metadata": {},
   "outputs": [
    {
     "name": "stdout",
     "output_type": "stream",
     "text": [
      "Multi-Head: mean 0.5094964247816923 | min 0.259670367432464 \n"
     ]
    },
    {
     "data": {
      "image/png": "[encoded data removed]",
      "text/plain": [
       "<Figure size 432x288 with 2 Axes>"
      ]
     },
     "metadata": {
      "needs_background": "light"
     },
     "output_type": "display_data"
    },
    {
     "name": "stdout",
     "output_type": "stream",
     "text": [
      "Decoding-Layer: mean 0.4095033149937196 | min 0.1643861401356916 \n"
     ]
    },
    {
     "data": {
      "image/png": "[encoded data removed]",
      "text/plain": [
       "<Figure size 432x288 with 2 Axes>"
      ]
     },
     "metadata": {
      "needs_background": "light"
     },
     "output_type": "display_data"
    }
   ],
   "source": [
    "w_t_m,w_t_d = calculate_correlation(wikisum_token_multi_head, wikisum_token_decoding)"
   ]
  },
  {
   "cell_type": "code",
   "execution_count": null,
   "metadata": {},
   "outputs": [],
   "source": []
  }
 ],
 "metadata": {
  "kernelspec": {
   "display_name": "Python 3",
   "language": "python",
   "name": "python3"
  },
  "language_info": {
   "codemirror_mode": {
    "name": "ipython",
    "version": 3
   },
   "file_extension": ".py",
   "mimetype": "text/x-python",
   "name": "python",
   "nbconvert_exporter": "python",
   "pygments_lexer": "ipython3",
   "version": "3.6.10"
  }
 },
 "nbformat": 4,
 "nbformat_minor": 4
}
