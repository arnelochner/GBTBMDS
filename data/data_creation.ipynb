{
 "cells": [
  {
   "cell_type": "code",
   "execution_count": 1,
   "id": "measured-eleven",
   "metadata": {},
   "outputs": [],
   "source": [
    "import json\n",
    "from glob import glob\n",
    "import numpy as np\n",
    "import pickle\n",
    "import os"
   ]
  },
  {
   "cell_type": "code",
   "execution_count": 2,
   "id": "preliminary-spectacular",
   "metadata": {},
   "outputs": [],
   "source": [
    "data_path = \"WikiSum/test\""
   ]
  },
  {
   "cell_type": "code",
   "execution_count": 3,
   "id": "instant-artist",
   "metadata": {},
   "outputs": [],
   "source": [
    "add_dummy_number_of_textual_units = True"
   ]
  },
  {
   "cell_type": "code",
   "execution_count": 4,
   "id": "legitimate-horizon",
   "metadata": {},
   "outputs": [],
   "source": [
    "number_of_samples = 500"
   ]
  },
  {
   "cell_type": "code",
   "execution_count": 5,
   "id": "mexican-aaron",
   "metadata": {},
   "outputs": [],
   "source": [
    "output_path = \"WikiSum/500_test\""
   ]
  },
  {
   "cell_type": "code",
   "execution_count": 6,
   "id": "increasing-system",
   "metadata": {},
   "outputs": [],
   "source": [
    "data = []\n",
    "for f_name in glob(os.path.join(data_path, \"*.json\")):\n",
    "    data.extend(json.load(open(f_name)))\n",
    "    \n",
    "\n",
    "indices = np.arange(0, len(data))\n",
    "np.random.shuffle(indices)\n",
    "\n",
    "if not os.path.exists(output_path):\n",
    "        os.mkdir(output_path)\n",
    "        \n",
    "with open(os.path.join(output_path, \"test.json\"), \"w\") as file:\n",
    "    data = list(np.array(data)[indices][:number_of_samples])\n",
    "    \n",
    "    if add_dummy_number_of_textual_units:\n",
    "        for d in data:\n",
    "            d[\"number_of_textual_units\"] = [10,10,10]\n",
    "    \n",
    "    json.dump(data, file)"
   ]
  },
  {
   "cell_type": "code",
   "execution_count": null,
   "id": "coastal-catalog",
   "metadata": {},
   "outputs": [],
   "source": []
  }
 ],
 "metadata": {
  "kernelspec": {
   "display_name": "Python 3",
   "language": "python",
   "name": "python3"
  },
  "language_info": {
   "codemirror_mode": {
    "name": "ipython",
    "version": 3
   },
   "file_extension": ".py",
   "mimetype": "text/x-python",
   "name": "python",
   "nbconvert_exporter": "python",
   "pygments_lexer": "ipython3",
   "version": "3.6.10"
  }
 },
 "nbformat": 4,
 "nbformat_minor": 5
}
