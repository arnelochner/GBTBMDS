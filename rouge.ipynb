{
 "cells": [
  {
   "cell_type": "code",
   "execution_count": 8,
   "id": "norman-memphis",
   "metadata": {
    "pycharm": {
     "name": "#%%\n"
    }
   },
   "outputs": [],
   "source": [
    "import json\n",
    "import numpy as np\n",
    "import scipy\n",
    "import rouge\n",
    "import matplotlib.pyplot as plt\n",
    "import pickle\n",
    "from scipy.special import softmax"
   ]
  },
  {
   "cell_type": "code",
   "execution_count": 92,
   "id": "blessed-arizona",
   "metadata": {
    "pycharm": {
     "name": "#%%\n"
    },
    "scrolled": true
   },
   "outputs": [
    {
     "data": {
      "image/png": "[encoded data removed]",
      "text/plain": [
       "<Figure size 1296x1440 with 1 Axes>"
      ]
     },
     "metadata": {
      "needs_background": "light"
     },
     "output_type": "display_data"
    }
   ],
   "source": [
    "rouge_scores = np.load(\"rouge_full.npy\")\n",
    "rouge_meta = json.load(open(\"rouge_meta.json\"))\n",
    "def plot_rouge(scores, example):\n",
    "    \n",
    "    fig = plt.figure()\n",
    "    fig.set_size_inches(18, 20)\n",
    "    #, \"rouge_l_f_score\"]\n",
    "    # results: (example, input_paragraph, summary_sentence)\n",
    "    (num_examples, num_paragraphs, num_para_sentences, num_summary_sentences, num_metrics) = np.shape(scores) \n",
    "    \n",
    "    # find limits\n",
    "    # flatten paragraphs & sentences to one dimension:\n",
    "    scores_example = scores[example]\n",
    "    patches = [scores_example[para, :rouge_meta[example][\"paragraph_sentences\"][para], :rouge_meta[example][\"summary_sentences\"]]\n",
    "          for para in range(rouge_meta[example][\"paragraphs\"])]\n",
    "    img = np.vstack(patches)\n",
    "    plt.imshow(img[:,:,0].T, cmap='hot', interpolation='nearest')\n",
    "    sum_sen = 0\n",
    "    for para in range(rouge_meta[example][\"paragraphs\"]):\n",
    "        sum_sen = sum_sen + rouge_meta[example][\"paragraph_sentences\"][para]\n",
    "        plt.axvline(sum_sen-0.5)\n",
    "    plt.show()\n",
    "    \n",
    "\n",
    "\n",
    "        \n",
    "        \n",
    "plot_rouge(rouge_scores, 1)\n",
    "\n",
    "\n",
    "    \n"
   ]
  },
  {
   "cell_type": "code",
   "execution_count": null,
   "id": "consolidated-least",
   "metadata": {
    "scrolled": false
   },
   "outputs": [],
   "source": []
  },
  {
   "cell_type": "code",
   "execution_count": null,
   "id": "higher-seafood",
   "metadata": {},
   "outputs": [],
   "source": []
  },
  {
   "cell_type": "code",
   "execution_count": null,
   "id": "connected-positive",
   "metadata": {
    "scrolled": false
   },
   "outputs": [],
   "source": [
    "\n",
    "r = pickle.load(open('r.p','rb'))"
   ]
  },
  {
   "cell_type": "code",
   "execution_count": null,
   "id": "further-cathedral",
   "metadata": {
    "scrolled": true
   },
   "outputs": [],
   "source": [
    "r1s = -np.ones((10,30*12))\n",
    "r2s = -np.ones((10,30*12))\n",
    "means = -np.ones((10,30*12))\n",
    "for e in range(10):\n",
    "    r1,r2 = asd(\"rouge.json\", example=e)\n",
    "    mean = r[\"Mean\"][e,0,:np.shape(r1)[1],7,7,:np.shape(r1)[0]].T\n",
    "    \n",
    "    #r1 = r1 / np.sum(r1, axis=0)\n",
    "    \n",
    "        \n",
    "    r2 = softmax(r2, axis=0)\n",
    "    tmp3 = r2.reshape(-1,)\n",
    "    \n",
    "    \n",
    "    #print(np.max(r1))\n",
    "    r1 = softmax(r1, axis=0)\n",
    "    tmp = r1.reshape(-1,)\n",
    "    r1s[e,:tmp.shape[0]] = tmp\n",
    "    tmp2 = mean.reshape(-1,)\n",
    "    means[e,:tmp.shape[0]] = tmp2\n",
    "    \n",
    "    r2s[e,:tmp3.shape[0]] = tmp3\n",
    " \n",
    "r1s = r1s.reshape(-1,)\n",
    "r1s = r1s[r1s != -1]\n",
    "\n",
    "r2s = r2s.reshape(-1,)\n",
    "r2s = r2s[r2s != -1]\n",
    "\n",
    "means = means.reshape(-1,)\n",
    "means = means[means != -1]\n",
    "\n",
    "corr = np.corrcoef([r1s, means, r2s])\n",
    "print(f\"{corr[0,1]} | {corr[2,1]}\")\n",
    "#print(softmax(corr, axis=1))"
   ]
  },
  {
   "cell_type": "code",
   "execution_count": null,
   "id": "moving-excitement",
   "metadata": {},
   "outputs": [],
   "source": [
    "plt.scatter(r1s, means)\n",
    "plt.scatter(r2s, means)"
   ]
  },
  {
   "cell_type": "code",
   "execution_count": null,
   "id": "seeing-giant",
   "metadata": {},
   "outputs": [],
   "source": [
    "\n",
    "plt.scatter(r1s, means)"
   ]
  },
  {
   "cell_type": "code",
   "execution_count": null,
   "id": "capital-granny",
   "metadata": {
    "scrolled": true
   },
   "outputs": [],
   "source": [
    "s = 0\n",
    "for e in range(10):\n",
    "    r1,r2 = asd(\"rouge.json\", example=e)\n",
    "    mean = r[\"Mean\"][e,0,:np.shape(r1)[1],7,7,:np.shape(r1)[0]].T\n",
    "    \n",
    "    #r1 = r1 / np.sum(r1, axis=0)\n",
    "    #print(np.max(r1))\n",
    "    r1 = softmax(r1, axis=0)\n",
    "    tmp1 = r1.reshape(-1,)\n",
    "    \n",
    "    r2 = softmax(r2, axis=0)\n",
    "    tmp3 = r2.reshape(-1,)\n",
    "    \n",
    "    s += tmp1.shape[0]\n",
    "    tmp2 = mean.reshape(-1,)\n",
    "    corr = np.corrcoef(np.array([tmp1,tmp2, tmp3]))\n",
    "    \n",
    "    #print(corr[0,1])\n",
    "    plt.figure()\n",
    "    plt.scatter(tmp1,tmp2)\n",
    "    print(f\"{corr[0,1]} | {corr[2,1]}\")\n",
    "\n",
    "\n",
    "#print(softmax(corr, axis=1))"
   ]
  },
  {
   "cell_type": "code",
   "execution_count": null,
   "id": "asian-flood",
   "metadata": {
    "scrolled": true
   },
   "outputs": [],
   "source": [
    "for e in range(10):\n",
    "    r1,r2 = asd(\"rouge.json\", example=e)\n",
    "    corr = np.corrcoef(r1.reshape(-1,), r2.reshape(-1,))\n",
    "    print(corr[0,1])\n"
   ]
  },
  {
   "cell_type": "code",
   "execution_count": null,
   "id": "demonstrated-butter",
   "metadata": {
    "scrolled": true
   },
   "outputs": [],
   "source": [
    "def magic(path=\"data/MultiNews_data_tfidf_paddle_paragraph_small/test/MultiNews.30.test.0.json\"):\n",
    "    test_json = json.load(open(path))\n",
    "\n",
    "    para_sen_num = -np.ones((len(test_json), 30) ,dtype=np.int)\n",
    "\n",
    "    for e in range(len(test_json)):\n",
    "        for j,p in enumerate(test_json[e][\"src_str\"]):\n",
    "             para_sen_num[e,j] = len(p.split(\".\"))\n",
    "    return para_sen_num\n",
    "            "
   ]
  },
  {
   "cell_type": "code",
   "execution_count": null,
   "id": "laden-right",
   "metadata": {},
   "outputs": [],
   "source": [
    "for e in range(len(test_json)):\n",
    "    print(test_json[e][\"tgt_str\"])"
   ]
  },
  {
   "cell_type": "code",
   "execution_count": 308,
   "id": "going-failing",
   "metadata": {},
   "outputs": [
    {
     "name": "stdout",
     "output_type": "stream",
     "text": [
      "179 2401 57 3764 9 6727 40 10 69 1947 18 2480 19 54 6642 12246 2892 26 9 6650 525 1386 567 10 31 0 4465 541 3022 5895 38 13661 12117 10 214 23 6060 13 9 553 13 61 12707 11\n"
     ]
    }
   ],
   "source": [
    "\n"
   ]
  }
 ],
 "metadata": {
  "kernelspec": {
   "display_name": "Python 3",
   "language": "python",
   "name": "python3"
  },
  "language_info": {
   "codemirror_mode": {
    "name": "ipython",
    "version": 3
   },
   "file_extension": ".py",
   "mimetype": "text/x-python",
   "name": "python",
   "nbconvert_exporter": "python",
   "pygments_lexer": "ipython3",
   "version": "3.6.10"
  }
 },
 "nbformat": 4,
 "nbformat_minor": 5
}
