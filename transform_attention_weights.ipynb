{
 "cells": [
  {
   "cell_type": "code",
   "execution_count": 1,
   "metadata": {},
   "outputs": [],
   "source": [
    "import matplotlib.pyplot as plt\n",
    "import numpy as np\n",
    "import pickle\n",
    "from transform_attention_weights_lib import transform_attention_weights\n",
    "\n",
    "\n",
    "from visualize_attention_weights import *\n",
    "%matplotlib widget"
   ]
  },
  {
   "cell_type": "code",
   "execution_count": 2,
   "metadata": {},
   "outputs": [],
   "source": [
    "weights = np.load(r\"E:\\graphsum\\data\\attention_weights\\pretrained_attention_weights.npy\")\n",
    "parent_idx = np.load(r\"E:\\graphsum\\data\\attention_weights\\parent_idx.npy\")\n",
    "scores = np.load(r\"E:\\graphsum\\data\\attention_weights\\scores.npy\")\n",
    "result_dict = pickle.load(open(r\"E:\\graphsum\\data\\attention_weights\\save_dict\" ,\"rb\"))\n",
    "\n",
    "finished_scores_array = result_dict[\"scores_array\"]"
   ]
  },
  {
   "cell_type": "code",
   "execution_count": 3,
   "metadata": {},
   "outputs": [],
   "source": [
    "decoded_weight_matrix, decoded_score_matrix = transform_attention_weights(weights, parent_idx, scores, result_dict)"
   ]
  },
  {
   "cell_type": "code",
   "execution_count": 4,
   "metadata": {},
   "outputs": [
    {
     "data": {
      "text/plain": [
       "array([[  0.        ,   0.        ,   0.        ,   0.        ,\n",
       "          0.        ,   0.        ,   0.        ,   0.        ,\n",
       "          0.        ,   0.        ],\n",
       "       [-11.98159885, -11.96436691, -12.03112888,   0.        ,\n",
       "          0.        ,   0.        ,   0.        ,   0.        ,\n",
       "          0.        ,   0.        ],\n",
       "       [-11.98159885, -11.96436691, -12.00180435, -12.22069931,\n",
       "        -12.34015942, -12.50501919, -12.61776733, -12.70601749,\n",
       "        -12.70512867, -12.68744755],\n",
       "       [-11.98159885, -11.96436691, -12.00180435, -12.22069931,\n",
       "        -12.34015942, -12.5412159 , -12.61404514, -12.71828747,\n",
       "        -12.72091961, -12.70312119],\n",
       "       [-11.57081032, -11.55626392, -12.18352032, -12.16792107,\n",
       "        -12.15712452, -12.13747311, -12.11677933, -12.68395615,\n",
       "        -12.7259407 , -12.70637798]])"
      ]
     },
     "execution_count": 4,
     "metadata": {},
     "output_type": "execute_result"
    }
   ],
   "source": [
    "finished_scores_array[1,:,290:300]"
   ]
  },
  {
   "cell_type": "code",
   "execution_count": 5,
   "metadata": {},
   "outputs": [
    {
     "name": "stdout",
     "output_type": "stream",
     "text": [
      "[[-11.57081032 -11.55626392 -12.18352032 -12.16792107 -12.15712452\n",
      "  -12.13747311 -12.11677933 -12.68395615 -12.7259407  -12.70637798]\n",
      " [-11.98159885 -11.96436691 -12.00180435 -12.22069931 -12.34015942\n",
      "  -12.50501919 -12.61776733 -12.70601749 -12.70512867 -12.68744755]\n",
      " [-11.98159885 -11.96436691 -12.00180435 -12.22069931 -12.34015942\n",
      "  -12.5412159  -12.61404514 -12.71828747 -12.72091961 -12.70312119]\n",
      " [-11.98159885 -11.96436691 -12.03112888 -12.03112888 -12.03112888\n",
      "  -12.03112888 -12.03112888 -12.03112888 -12.03112888 -12.03112888]\n",
      " [-11.01013756 -11.01013756 -11.01013756 -11.01013756 -11.01013756\n",
      "  -11.01013756 -11.01013756 -11.01013756 -11.01013756 -11.01013756]]\n"
     ]
    }
   ],
   "source": [
    "print(decoded_score_matrix[1,:,290:300])"
   ]
  },
  {
   "cell_type": "code",
   "execution_count": 6,
   "metadata": {},
   "outputs": [
    {
     "data": {
      "text/plain": [
       "array([[-17.07486916, -17.15180016, -17.10515404,   0.        ,\n",
       "          0.        ,   0.        ,   0.        ,   0.        ,\n",
       "          0.        ,   0.        ],\n",
       "       [-16.98996162, -17.06534195, -17.42035294, -17.51957512,\n",
       "        -17.47158623,   0.        ,   0.        ,   0.        ,\n",
       "          0.        ,   0.        ],\n",
       "       [-16.9791851 , -17.24659729, -17.42840004, -17.53141403,\n",
       "        -17.48337364,   0.        ,   0.        ,   0.        ,\n",
       "          0.        ,   0.        ],\n",
       "       [-16.98996162, -17.06534195, -17.36968231, -17.39950562,\n",
       "        -17.35833359, -17.73204041, -17.70084381, -18.14871788,\n",
       "        -18.22179985, -18.29870415],\n",
       "       [-16.98996162, -17.06534195, -17.36968231, -17.39950562,\n",
       "        -17.35833359, -17.73204041, -17.70084381, -18.14871788,\n",
       "        -18.22179985, -18.29870415]])"
      ]
     },
     "execution_count": 6,
     "metadata": {},
     "output_type": "execute_result"
    }
   ],
   "source": [
    "finished_scores_array[0,:,200:210]"
   ]
  },
  {
   "cell_type": "code",
   "execution_count": 7,
   "metadata": {
    "scrolled": true
   },
   "outputs": [
    {
     "data": {
      "text/plain": [
       "array([[-16.9791851 , -17.24659729, -17.42840004, -17.53141403,\n",
       "        -17.48337364, -17.48337364, -17.48337364, -17.48337364,\n",
       "        -17.48337364, -17.48337364],\n",
       "       [-16.98996162, -17.06534195, -17.36968231, -17.39950562,\n",
       "        -17.35833359, -17.73204041, -17.70084381, -18.14871788,\n",
       "        -18.22179985, -18.29870415],\n",
       "       [-16.98996162, -17.06534195, -17.36968231, -17.39950562,\n",
       "        -17.35833359, -17.73204041, -17.70084381, -18.14871788,\n",
       "        -18.22179985, -18.29870415],\n",
       "       [-16.98996162, -17.06534195, -17.42035294, -17.51957512,\n",
       "        -17.47158623, -17.47158623, -17.47158623, -17.47158623,\n",
       "        -17.47158623, -17.47158623],\n",
       "       [-17.07486916, -17.15180016, -17.10515404, -17.10515404,\n",
       "        -17.10515404, -17.10515404, -17.10515404, -17.10515404,\n",
       "        -17.10515404, -17.10515404]])"
      ]
     },
     "execution_count": 7,
     "metadata": {},
     "output_type": "execute_result"
    }
   ],
   "source": [
    "decoded_score_matrix[0,:,200:210]"
   ]
  },
  {
   "cell_type": "code",
   "execution_count": 8,
   "metadata": {},
   "outputs": [
    {
     "data": {
      "application/vnd.jupyter.widget-view+json": {
       "model_id": "f1b8f01c82784e1280750c6d48d3b5da",
       "version_major": 2,
       "version_minor": 0
      },
      "text/plain": [
       "Canvas(toolbar=Toolbar(toolitems=[('Home', 'Reset original view', 'home', 'home'), ('Back', 'Back to previous …"
      ]
     },
     "metadata": {},
     "output_type": "display_data"
    }
   ],
   "source": [
    "histo_3d_simple(decoded_weight_matrix, decoded_score_matrix, (result_dict[\"longest_beam_array\"]-1).astype(\"int\"),decoding_layer=0,example=0)"
   ]
  },
  {
   "cell_type": "code",
   "execution_count": 9,
   "metadata": {},
   "outputs": [
    {
     "data": {
      "application/vnd.jupyter.widget-view+json": {
       "model_id": "f7fb20e077a24fe986fc12671624fe1f",
       "version_major": 2,
       "version_minor": 0
      },
      "text/plain": [
       "Canvas(toolbar=Toolbar(toolitems=[('Home', 'Reset original view', 'home', 'home'), ('Back', 'Back to previous …"
      ]
     },
     "metadata": {},
     "output_type": "display_data"
    }
   ],
   "source": [
    "histo_3d_multi(decoded_weight_matrix, decoded_score_matrix, (result_dict[\"longest_beam_array\"]-1).astype(\"int\"), decoding_layer=7)"
   ]
  }
 ],
 "metadata": {
  "kernelspec": {
   "display_name": "Python 3.7.2 64-bit",
   "language": "python",
   "name": "python37264bitb758941065764c65be30b5af71a2fbcf"
  },
  "language_info": {
   "codemirror_mode": {
    "name": "ipython",
    "version": 3
   },
   "file_extension": ".py",
   "mimetype": "text/x-python",
   "name": "python",
   "nbconvert_exporter": "python",
   "pygments_lexer": "ipython3",
   "version": "3.7.2"
  }
 },
 "nbformat": 4,
 "nbformat_minor": 4
}
