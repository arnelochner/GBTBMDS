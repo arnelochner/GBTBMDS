{
 "cells": [
  {
   "cell_type": "code",
   "execution_count": 1,
   "metadata": {},
   "outputs": [],
   "source": [
    "import matplotlib.pyplot as plt\n",
    "import matplotlib.gridspec as gridspec\n",
    "import numpy as np\n",
    "import pickle\n",
    "from transform_attention_weights_lib import transform_attention_weights\n",
    "from aggregation_sentence_information_lib import aggregate_weight_information_for_sentences\n",
    "\n",
    "from visualize_attention_weights import *\n",
    "%matplotlib inline"
   ]
  },
  {
   "cell_type": "code",
   "execution_count": 2,
   "metadata": {},
   "outputs": [],
   "source": [
    "weights = np.load(r\"E:\\graphsum\\data\\attention_weights_with_meta_information\\pretrained_attention_weights.npy\")\n",
    "parent_idx = np.load(r\"E:\\graphsum\\data\\attention_weights_with_meta_information\\parent_idx.npy\")\n",
    "scores = np.load(r\"E:\\graphsum\\data\\attention_weights_with_meta_information\\scores.npy\")\n",
    "result_dict = pickle.load(open(r\"E:\\graphsum\\data\\attention_weights_with_meta_information\\save_dict\" ,\"rb\"))\n",
    "\n",
    "finished_scores_array = result_dict[\"scores_array\"]"
   ]
  },
  {
   "cell_type": "code",
   "execution_count": 3,
   "metadata": {},
   "outputs": [],
   "source": [
    "cleaned_weight_matrix, cleaned_score_matrix = transform_attention_weights(weights, parent_idx, scores, result_dict)"
   ]
  },
  {
   "cell_type": "code",
   "execution_count": 4,
   "metadata": {},
   "outputs": [],
   "source": [
    "r = aggregate_weight_information_for_sentences(cleaned_weight_matrix, result_dict)"
   ]
  },
  {
   "cell_type": "code",
   "execution_count": 5,
   "metadata": {
    "scrolled": true
   },
   "outputs": [
    {
     "data": {
      "text/plain": [
       "array([[[0.0805293 , 0.08564394, 0.06917164, 0.06307391, 0.04275826,\n",
       "         0.04215735, 0.05213131, 0.03303247, 0.03084569, 0.05233949],\n",
       "        [0.07807299, 0.06034666, 0.08435677, 0.06087342, 0.032836  ,\n",
       "         0.04044218, 0.05458871, 0.02769563, 0.027351  , 0.06220106],\n",
       "        [0.06065328, 0.04569869, 0.09207353, 0.05369191, 0.03954623,\n",
       "         0.03849616, 0.05676437, 0.03738576, 0.03351049, 0.06680411],\n",
       "        [0.06207975, 0.04221972, 0.10004984, 0.05991317, 0.04220194,\n",
       "         0.03785561, 0.05884672, 0.04604529, 0.03988005, 0.07587005],\n",
       "        [0.06440912, 0.04269555, 0.0934148 , 0.05628587, 0.0407111 ,\n",
       "         0.04584856, 0.06654776, 0.05895969, 0.04680609, 0.08382408],\n",
       "        [0.0579781 , 0.06126981, 0.07559783, 0.05771615, 0.05154164,\n",
       "         0.05335989, 0.07587404, 0.06525973, 0.05511072, 0.07404803],\n",
       "        [0.06398449, 0.06395058, 0.07099767, 0.05916622, 0.04912377,\n",
       "         0.05164787, 0.0712564 , 0.06805124, 0.06867141, 0.07525596],\n",
       "        [0.05107001, 0.07049764, 0.07244756, 0.0574101 , 0.05438472,\n",
       "         0.05063101, 0.06586645, 0.08358351, 0.08205257, 0.06109768],\n",
       "        [0.07539389, 0.0631623 , 0.06650027, 0.06900525, 0.05788152,\n",
       "         0.06780577, 0.07009606, 0.06755815, 0.06261179, 0.06193789],\n",
       "        [0.        , 0.        , 0.        , 0.        , 0.        ,\n",
       "         0.        , 0.        , 0.        , 0.        , 0.        ],\n",
       "        [0.        , 0.        , 0.        , 0.        , 0.        ,\n",
       "         0.        , 0.        , 0.        , 0.        , 0.        ],\n",
       "        [0.        , 0.        , 0.        , 0.        , 0.        ,\n",
       "         0.        , 0.        , 0.        , 0.        , 0.        ]],\n",
       "\n",
       "       [[0.0805293 , 0.08564394, 0.06917164, 0.06307391, 0.04275826,\n",
       "         0.04215735, 0.05213131, 0.03303247, 0.03084569, 0.05233949],\n",
       "        [0.07807299, 0.06034666, 0.08435677, 0.06087342, 0.032836  ,\n",
       "         0.04044218, 0.05458871, 0.02769563, 0.027351  , 0.06220106],\n",
       "        [0.06065328, 0.04569869, 0.09207353, 0.05369191, 0.03954623,\n",
       "         0.03849616, 0.05676437, 0.03738576, 0.03351049, 0.06680411],\n",
       "        [0.06207975, 0.04221972, 0.10004984, 0.05991317, 0.04220194,\n",
       "         0.03785561, 0.05884672, 0.04604529, 0.03988005, 0.07587005],\n",
       "        [0.06440912, 0.04269555, 0.0934148 , 0.05628587, 0.0407111 ,\n",
       "         0.04584856, 0.06654776, 0.05895969, 0.04680609, 0.08382408],\n",
       "        [0.0579781 , 0.06126981, 0.07559783, 0.05771615, 0.05154164,\n",
       "         0.05335989, 0.07587404, 0.06525973, 0.05511072, 0.07404803],\n",
       "        [0.06398449, 0.06395058, 0.07099767, 0.05916622, 0.04912377,\n",
       "         0.05164787, 0.0712564 , 0.06805124, 0.06867141, 0.07525596],\n",
       "        [0.05107001, 0.07049764, 0.07244756, 0.0574101 , 0.05438472,\n",
       "         0.05063101, 0.06586645, 0.08358351, 0.08205257, 0.06109768],\n",
       "        [0.07642472, 0.06416181, 0.06864306, 0.06686565, 0.05538625,\n",
       "         0.06739427, 0.0708423 , 0.06453733, 0.05848346, 0.06424556],\n",
       "        [0.07639258, 0.06253374, 0.08003466, 0.07193626, 0.04221581,\n",
       "         0.05606715, 0.06231506, 0.06140249, 0.06594673, 0.06582712],\n",
       "        [0.07316168, 0.07741178, 0.08125582, 0.07675349, 0.0582051 ,\n",
       "         0.05190548, 0.06014556, 0.08219368, 0.06554325, 0.06270504],\n",
       "        [0.07196294, 0.06531168, 0.06847508, 0.09609864, 0.05145168,\n",
       "         0.05209522, 0.05340686, 0.07278104, 0.05994795, 0.06436342]],\n",
       "\n",
       "       [[0.0805293 , 0.08564394, 0.06917164, 0.06307391, 0.04275826,\n",
       "         0.04215735, 0.05213131, 0.03303247, 0.03084569, 0.05233949],\n",
       "        [0.07807299, 0.06034666, 0.08435677, 0.06087342, 0.032836  ,\n",
       "         0.04044218, 0.05458871, 0.02769563, 0.027351  , 0.06220106],\n",
       "        [0.06065328, 0.04569869, 0.09207353, 0.05369191, 0.03954623,\n",
       "         0.03849616, 0.05676437, 0.03738576, 0.03351049, 0.06680411],\n",
       "        [0.06207975, 0.04221972, 0.10004984, 0.05991317, 0.04220194,\n",
       "         0.03785561, 0.05884672, 0.04604529, 0.03988005, 0.07587005],\n",
       "        [0.06440912, 0.04269555, 0.0934148 , 0.05628587, 0.0407111 ,\n",
       "         0.04584856, 0.06654776, 0.05895969, 0.04680609, 0.08382408],\n",
       "        [0.0579781 , 0.06126981, 0.07559783, 0.05771615, 0.05154164,\n",
       "         0.05335989, 0.07587404, 0.06525973, 0.05511072, 0.07404803],\n",
       "        [0.06398449, 0.06395058, 0.07099767, 0.05916622, 0.04912377,\n",
       "         0.05164787, 0.0712564 , 0.06805124, 0.06867141, 0.07525596],\n",
       "        [0.05107001, 0.07049764, 0.07244756, 0.0574101 , 0.05438472,\n",
       "         0.05063101, 0.06586645, 0.08358351, 0.08205257, 0.06109768],\n",
       "        [0.07642472, 0.06416181, 0.06864306, 0.06686565, 0.05538625,\n",
       "         0.06739427, 0.0708423 , 0.06453733, 0.05848346, 0.06424556],\n",
       "        [0.07639258, 0.06253374, 0.08003466, 0.07193626, 0.04221581,\n",
       "         0.05606715, 0.06231506, 0.06140249, 0.06594673, 0.06582712],\n",
       "        [0.07316168, 0.07741178, 0.08125582, 0.07675349, 0.0582051 ,\n",
       "         0.05190548, 0.06014556, 0.08219368, 0.06554325, 0.06270504],\n",
       "        [0.07126096, 0.06632101, 0.06904589, 0.09693694, 0.05246196,\n",
       "         0.05171511, 0.0529199 , 0.07190624, 0.06025934, 0.06358166]],\n",
       "\n",
       "       [[0.0805293 , 0.08564394, 0.06917164, 0.06307391, 0.04275826,\n",
       "         0.04215735, 0.05213131, 0.03303247, 0.03084569, 0.05233949],\n",
       "        [0.07807299, 0.06034666, 0.08435677, 0.06087342, 0.032836  ,\n",
       "         0.04044218, 0.05458871, 0.02769563, 0.027351  , 0.06220106],\n",
       "        [0.06065328, 0.04569869, 0.09207353, 0.05369191, 0.03954623,\n",
       "         0.03849616, 0.05676437, 0.03738576, 0.03351049, 0.06680411],\n",
       "        [0.06207975, 0.04221972, 0.10004984, 0.05991317, 0.04220194,\n",
       "         0.03785561, 0.05884672, 0.04604529, 0.03988005, 0.07587005],\n",
       "        [0.06440912, 0.04269555, 0.0934148 , 0.05628587, 0.0407111 ,\n",
       "         0.04584856, 0.06654776, 0.05895969, 0.04680609, 0.08382408],\n",
       "        [0.0579781 , 0.06126981, 0.07559783, 0.05771615, 0.05154164,\n",
       "         0.05335989, 0.07587404, 0.06525973, 0.05511072, 0.07404803],\n",
       "        [0.06398449, 0.06395058, 0.07099767, 0.05916622, 0.04912377,\n",
       "         0.05164787, 0.0712564 , 0.06805124, 0.06867141, 0.07525596],\n",
       "        [0.05107001, 0.07049764, 0.07244756, 0.0574101 , 0.05438472,\n",
       "         0.05063101, 0.06586645, 0.08358351, 0.08205257, 0.06109768],\n",
       "        [0.07642472, 0.06416181, 0.06864306, 0.06686565, 0.05538625,\n",
       "         0.06739427, 0.0708423 , 0.06453733, 0.05848346, 0.06424556],\n",
       "        [0.07639258, 0.06253374, 0.08003466, 0.07193626, 0.04221581,\n",
       "         0.05606715, 0.06231506, 0.06140249, 0.06594673, 0.06582712],\n",
       "        [0.07316168, 0.07741178, 0.08125582, 0.07675349, 0.0582051 ,\n",
       "         0.05190548, 0.06014556, 0.08219368, 0.06554325, 0.06270504],\n",
       "        [0.07204098, 0.06646947, 0.06812057, 0.09786304, 0.05221654,\n",
       "         0.0515959 , 0.05247418, 0.07147696, 0.05942814, 0.06389774]],\n",
       "\n",
       "       [[0.0805293 , 0.08564394, 0.06917164, 0.06307391, 0.04275826,\n",
       "         0.04215735, 0.05213131, 0.03303247, 0.03084569, 0.05233949],\n",
       "        [0.07807299, 0.06034666, 0.08435677, 0.06087342, 0.032836  ,\n",
       "         0.04044218, 0.05458871, 0.02769563, 0.027351  , 0.06220106],\n",
       "        [0.06065328, 0.04569869, 0.09207353, 0.05369191, 0.03954623,\n",
       "         0.03849616, 0.05676437, 0.03738576, 0.03351049, 0.06680411],\n",
       "        [0.06207975, 0.04221972, 0.10004984, 0.05991317, 0.04220194,\n",
       "         0.03785561, 0.05884672, 0.04604529, 0.03988005, 0.07587005],\n",
       "        [0.06440912, 0.04269555, 0.0934148 , 0.05628587, 0.0407111 ,\n",
       "         0.04584856, 0.06654776, 0.05895969, 0.04680609, 0.08382408],\n",
       "        [0.0579781 , 0.06126981, 0.07559783, 0.05771615, 0.05154164,\n",
       "         0.05335989, 0.07587404, 0.06525973, 0.05511072, 0.07404803],\n",
       "        [0.06398449, 0.06395058, 0.07099767, 0.05916622, 0.04912377,\n",
       "         0.05164787, 0.0712564 , 0.06805124, 0.06867141, 0.07525596],\n",
       "        [0.05107001, 0.07049764, 0.07244756, 0.0574101 , 0.05438472,\n",
       "         0.05063101, 0.06586645, 0.08358351, 0.08205257, 0.06109768],\n",
       "        [0.07642472, 0.06416181, 0.06864306, 0.06686565, 0.05538625,\n",
       "         0.06739427, 0.0708423 , 0.06453733, 0.05848346, 0.06424556],\n",
       "        [0.07639258, 0.06253374, 0.08003466, 0.07193626, 0.04221581,\n",
       "         0.05606715, 0.06231506, 0.06140249, 0.06594673, 0.06582712],\n",
       "        [0.07316168, 0.07741178, 0.08125582, 0.07675349, 0.0582051 ,\n",
       "         0.05190548, 0.06014556, 0.08219368, 0.06554325, 0.06270504],\n",
       "        [0.07074822, 0.06578636, 0.07115817, 0.09599575, 0.05156098,\n",
       "         0.05208819, 0.05396305, 0.07387718, 0.06026404, 0.06333644]]])"
      ]
     },
     "execution_count": 5,
     "metadata": {},
     "output_type": "execute_result"
    }
   ],
   "source": [
    "r[\"Mean\"][1,:,:,0,0,:10]"
   ]
  },
  {
   "cell_type": "code",
   "execution_count": 13,
   "metadata": {},
   "outputs": [
    {
     "data": {
      "text/plain": [
       "array([0., 0., 0., 0., 0., 0., 0., 0., 0., 0., 0., 0., 0., 0., 0., 0., 0.,\n",
       "       0., 0., 0., 0., 0., 0., 0., 0., 0., 0., 0., 0., 0.])"
      ]
     },
     "execution_count": 13,
     "metadata": {},
     "output_type": "execute_result"
    }
   ],
   "source": [
    "r[\"Mean\"][0,0,11,0,0,:]"
   ]
  },
  {
   "cell_type": "code",
   "execution_count": 11,
   "metadata": {
    "scrolled": true
   },
   "outputs": [
    {
     "data": {
      "text/plain": [
       "array([[ 0, 27, 26, 25, 24, 23, 22, 21, 20, 19, 18, 17, 16, 15, 14, 13,\n",
       "        12, 11, 10,  9,  8,  7,  6,  5,  4,  3,  2,  1, 28, 29],\n",
       "       [ 0, 27, 26, 25, 24, 23, 22, 21, 20, 19, 18, 17, 16, 15, 14, 13,\n",
       "        12, 11, 10,  9,  8,  7,  6,  5,  4,  3,  2,  1, 28, 29],\n",
       "       [ 0, 27, 26, 25, 24, 23, 22, 21, 20, 19, 18, 17, 16, 15, 14, 13,\n",
       "        12, 11, 10,  9,  8,  7,  6,  5,  4,  3,  2,  1, 28, 29],\n",
       "       [ 0, 27, 26, 25, 24, 23, 22, 21, 20, 19, 18, 17, 16, 15, 14, 13,\n",
       "        12, 11, 10,  9,  8,  7,  6,  5,  4,  3,  2,  1, 28, 29],\n",
       "       [ 0, 27, 26, 25, 24, 23, 22, 21, 20, 19, 18, 17, 16, 15, 14, 13,\n",
       "        12, 11, 10,  9,  8,  7,  6,  5,  4,  3,  2,  1, 28, 29],\n",
       "       [ 0, 27, 26, 25, 24, 23, 22, 21, 20, 19, 18, 17, 16, 15, 14, 13,\n",
       "        12, 11, 10,  9,  8,  7,  6,  5,  4,  3,  2,  1, 28, 29],\n",
       "       [ 0, 27, 26, 25, 24, 23, 22, 21, 20, 19, 18, 17, 16, 15, 14, 13,\n",
       "        12, 11, 10,  9,  8,  7,  6,  5,  4,  3,  2,  1, 28, 29],\n",
       "       [ 0, 27, 26, 25, 24, 23, 22, 21, 20, 19, 18, 17, 16, 15, 14, 13,\n",
       "        12, 11, 10,  9,  8,  7,  6,  5,  4,  3,  2,  1, 28, 29]],\n",
       "      dtype=int64)"
      ]
     },
     "execution_count": 11,
     "metadata": {},
     "output_type": "execute_result"
    }
   ],
   "source": [
    "np.argsort(r[\"Median\"], axis=5)[0,0,11,0,:,:]"
   ]
  },
  {
   "cell_type": "code",
   "execution_count": 8,
   "metadata": {},
   "outputs": [
    {
     "data": {
      "text/plain": [
       "array([[28, 27, 29, 25, 26, 22, 24, 20, 12, 14,  7,  5, 13, 21, 10, 11,\n",
       "         9, 23,  6,  8, 17, 19, 18,  4,  2,  3, 16,  1, 15,  0],\n",
       "       [29, 28, 24, 23, 27, 26, 14, 25,  9, 10, 20, 22, 13,  8, 12, 11,\n",
       "         5,  7, 21, 17, 18,  6, 16,  2, 19,  1,  3, 15,  4,  0],\n",
       "       [29, 28, 22, 25, 27, 24, 26,  7, 23, 10, 21, 14,  9, 12, 20, 13,\n",
       "        11,  8,  5,  6, 17,  2, 19, 18,  4, 16,  1,  3, 15,  0],\n",
       "       [ 9, 24, 26, 23, 11,  8, 18, 28, 29, 16, 27,  3, 12, 14, 13,  1,\n",
       "        10, 19, 25,  5,  4, 17, 20,  2, 21,  6,  0, 15,  7, 22],\n",
       "       [24, 28, 27, 25, 29,  9, 26, 22, 23, 20, 10,  5, 14,  7, 21, 12,\n",
       "        13, 11,  8,  6, 17, 19,  2, 18,  4, 16,  1,  3, 15,  0],\n",
       "       [24, 28, 26,  9, 29, 20, 23, 25, 22, 21,  5, 27, 14, 11, 13, 10,\n",
       "         7,  8, 12,  6, 17, 19, 18, 16,  3, 15,  4,  2,  1,  0],\n",
       "       [ 5, 25, 10, 20, 22, 21,  7, 29, 23,  6,  3, 14, 18, 19,  4,  8,\n",
       "        12,  2, 27,  0, 13, 26, 17, 28, 11, 15,  1, 24,  9, 16],\n",
       "       [25, 22, 20, 27, 10,  5,  7, 28, 29, 12, 21, 26, 24, 18, 14, 13,\n",
       "         6, 11,  9, 16, 17, 23, 19,  3,  8,  4,  1,  2, 15,  0]],\n",
       "      dtype=int64)"
      ]
     },
     "execution_count": 8,
     "metadata": {},
     "output_type": "execute_result"
    }
   ],
   "source": [
    "np.argsort(r[\"Mean\"], axis=5)[0,0,0,0,:,:]"
   ]
  },
  {
   "cell_type": "code",
   "execution_count": null,
   "metadata": {},
   "outputs": [],
   "source": [
    "finished_scores_array[6,:,200:230]"
   ]
  },
  {
   "cell_type": "code",
   "execution_count": null,
   "metadata": {},
   "outputs": [],
   "source": [
    "cleaned_score_matrix[6,:,200:230]"
   ]
  },
  {
   "cell_type": "code",
   "execution_count": null,
   "metadata": {},
   "outputs": [],
   "source": [
    "finished_scores_array[0,:,200:210]"
   ]
  },
  {
   "cell_type": "code",
   "execution_count": null,
   "metadata": {
    "scrolled": true
   },
   "outputs": [],
   "source": [
    "cleaned_score_matrix[0,:,200:210]"
   ]
  },
  {
   "cell_type": "code",
   "execution_count": 6,
   "metadata": {},
   "outputs": [
    {
     "data": {
      "image/png": "[encoded data removed]",
      "text/plain": [
       "<Figure size 1440x720 with 2 Axes>"
      ]
     },
     "metadata": {
      "needs_background": "light"
     },
     "output_type": "display_data"
    }
   ],
   "source": [
    "heatmap_sent_simp(result_dict,r[\"Mean\"])"
   ]
  },
  {
   "cell_type": "code",
   "execution_count": null,
   "metadata": {},
   "outputs": [],
   "source": [
    "histo_3d_simple(cleaned_weight_matrix, cleaned_score_matrix,result_dict[\"number_of_textual_units\"], (result_dict[\"longest_beam_array\"]-1).astype(\"int\"),decoding_layer=0,example=0)"
   ]
  },
  {
   "cell_type": "code",
   "execution_count": null,
   "metadata": {},
   "outputs": [],
   "source": [
    "histo_3d_multi(cleaned_weight_matrix, cleaned_score_matrix, (result_dict[\"longest_beam_array\"]-1).astype(\"int\"), decoding_layer=7);"
   ]
  },
  {
   "cell_type": "code",
   "execution_count": null,
   "metadata": {},
   "outputs": [],
   "source": [
    "heatmap_simp(result_dict,cleaned_weight_matrix,cleaned_score_matrix, example=0, decoding_layer=0,num_multi_head=0);"
   ]
  },
  {
   "cell_type": "code",
   "execution_count": null,
   "metadata": {},
   "outputs": [],
   "source": [
    "heatmap_multi(result_dict,cleaned_weight_matrix,cleaned_score_matrix, decoding_layer=0,num_multi_head=0, size=(40,8)); # Default values"
   ]
  },
  {
   "cell_type": "code",
   "execution_count": null,
   "metadata": {
    "scrolled": true
   },
   "outputs": [],
   "source": [
    "heatmap_att_head(result_dict,cleaned_weight_matrix,cleaned_score_matrix,example=0, size=(40, 70),save=True)"
   ]
  },
  {
   "cell_type": "code",
   "execution_count": null,
   "metadata": {},
   "outputs": [],
   "source": [
    "heatmap_dec_layer(result_dict,cleaned_weight_matrix,cleaned_score_matrix,num_multi_head=0, size=(40,70),save=True); # Default values with exeption of save, changing the size could brake the space between subplots"
   ]
  },
  {
   "cell_type": "code",
   "execution_count": null,
   "metadata": {},
   "outputs": [],
   "source": [
    "heatmap_dec_layer(result_dict,cleaned_weight_matrix,cleaned_score_matrix,num_multi_head=1);"
   ]
  }
 ],
 "metadata": {
  "kernelspec": {
   "display_name": "Python 3.7.2 64-bit",
   "language": "python",
   "name": "python37264bitb758941065764c65be30b5af71a2fbcf"
  },
  "language_info": {
   "codemirror_mode": {
    "name": "ipython",
    "version": 3
   },
   "file_extension": ".py",
   "mimetype": "text/x-python",
   "name": "python",
   "nbconvert_exporter": "python",
   "pygments_lexer": "ipython3",
   "version": "3.7.2"
  }
 },
 "nbformat": 4,
 "nbformat_minor": 4
}