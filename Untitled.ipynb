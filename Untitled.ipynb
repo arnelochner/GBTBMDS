{
 "cells": [
  {
   "cell_type": "code",
   "execution_count": null,
   "metadata": {},
   "outputs": [],
   "source": [
    "!set FLAGS_fraction_of_gpu_memory_to_use=0.9"
   ]
  },
  {
   "cell_type": "code",
   "execution_count": 1,
   "metadata": {
    "scrolled": false
   },
   "outputs": [
    {
     "name": "stderr",
     "output_type": "stream",
     "text": [
      "[2020-12-09 13:40:26,958 INFO] {'BOS': 4, 'EOS': 5, 'PAD': 6, 'EOT': 3, 'EOP': 7, 'EOQ': 8, 'UNK': 0}\n",
      "[2020-12-09 13:40:26,971 INFO] Loading dataset from E:/graphsum/data/MultiNews_data_tfidf_30_paddle/local_train\\MultiNews.30.train.0.json, number of examples: 10\n",
      "[2020-12-09 13:40:26,973 INFO] Device count: 12, gpu_id: 0\n",
      "[2020-12-09 13:40:26,974 INFO] Num train examples: 10\n",
      "[2020-12-09 13:40:26,974 INFO] Max train steps: 0\n",
      "[2020-12-09 13:40:26,975 INFO] Num warmup steps: 2\n",
      "[2020-12-09 13:40:26,976 WARNING] paddle.fluid.layers.py_reader() may be deprecated in the near future. Please use paddle.fluid.io.DataLoader.from_generator() instead.\n"
     ]
    },
    {
     "name": "stdout",
     "output_type": "stream",
     "text": [
      "attention_probs_dropout_prob: 0.1\n",
      "dec_graph_layers: 8\n",
      "dec_word_pos_embedding_name: dec_word_pos_embedding\n",
      "enc_graph_layers: 2\n",
      "enc_sen_pos_embedding_name: enc_sen_pos_embedding\n",
      "enc_word_layers: 6\n",
      "enc_word_pos_embedding_name: enc_word_pos_embedding\n",
      "hidden_act: relu\n",
      "hidden_dropout_prob: 0.1\n",
      "hidden_size: 256\n",
      "initializer_range: 0.02\n",
      "max_position_embeddings: 512\n",
      "num_attention_heads: 8\n",
      "postprocess_command: da\n",
      "preprocess_command: n\n",
      "word_embedding_name: word_embedding\n",
      "------------------------------------------------\n",
      "E:/graphsum/data/MultiNews_data_tfidf_30_paddle/local_train\n"
     ]
    },
    {
     "name": "stderr",
     "output_type": "stream",
     "text": [
      "[2020-12-09 13:40:42,829 WARNING] paddle.fluid.layers.py_reader() may be deprecated in the near future. Please use paddle.fluid.io.DataLoader.from_generator() instead.\n",
      "[2020-12-09 13:40:50,126 INFO] args.is_distributed: False\n",
      "!!! The CPU_NUM is not specified, you should set CPU_NUM in the environment variable list.\n",
      "CPU_NUM indicates that how many CPUPlace are used in the current task.\n",
      "And if this parameter are set as N (equal to the number of physical CPU core) the program may be faster.\n",
      "\n",
      "export CPU_NUM=12 # for example, set CPU_NUM as number of physical CPU core which is 12.\n",
      "\n",
      "!!! The default number of CPU_NUM=1.\n",
      "[2020-12-09 13:40:51,915 INFO] Start Training\n",
      "[2020-12-09 13:40:51,916 INFO] 1\n",
      "[2020-12-09 13:40:51,918 INFO] Step 1 starting\n",
      "[2020-12-09 13:40:51,926 INFO] Loading dataset from E:/graphsum/data/MultiNews_data_tfidf_30_paddle/local_train\\MultiNews.30.train.0.json, number of examples: 10\n",
      "[2020-12-09 13:41:34,705 INFO] Step 1 done\n",
      "[2020-12-09 13:41:34,707 INFO] 2\n",
      "[2020-12-09 13:41:34,708 INFO] Step 2 starting\n",
      "[2020-12-09 13:41:34,764 INFO] TRAINING FINSIHED\n",
      "[2020-12-09 13:41:39,420 INFO] finished\n",
      "[2020-12-09 13:41:39,430 INFO] Loading dataset from E:/graphsum/data/MultiNews_data_tfidf_30_paddle/local_test\\MultiNews.30.test.0.json, number of examples: 10\n",
      "[2020-12-09 13:41:39,431 INFO] Final test result:\n",
      "[2020-12-09 13:41:39,500 INFO] {'BOS': 4, 'EOS': 5, 'PAD': 6, 'EOT': 3, 'EOP': 7, 'EOQ': 8, 'UNK': 0}\n",
      "share_vars_from is set, scope is ignored.\n"
     ]
    },
    {
     "name": "stdout",
     "output_type": "stream",
     "text": [
      "E:/graphsum/data/MultiNews_data_tfidf_30_paddle/local_test\n",
      "22 22 children 22 22 22 by children 22 children children children 22 by 22 by by 22 children another children 22 another 22 22 another another 22 another children children another another another children another 22 children children 22 22 22 22 22 22 22 22 22 22 22 22 22 22 22 22 22 22 22 22 22 22 22 22 22 22 22 22 22 22 22 22 22 22 22 22 22 22 22 22 22 22 22 22 22 22 22 22 22 22 22 22 22 22 22 22 22 22 22 22 22 22 22 22 22 22 22 22 22 22 22 22 22 22 22 22 22 22 22 22 22 22 22 22 22 22 22 22 22 22 22 22 22 22 22 22 22 22 22 22 22 22 22 22 22 22 22 22 22 22 22 22 22 22 another another another 22 22 another 22 22 22 22 22 22 22 another 22 22 22 22 22 22 22 22 22 22 22 22 22 22 22 22 22 22 22 22 22 22 22 22 22 22 22 22 22 22 22 22 22\n",
      "22 22 children 22 22 22 by children 22 children children children 22 by 22 children have 22 22 22 22 22 22 children another children 22 another 22 22 another another 22 another children children another another children another 22 children 22 22 22 22 22 22 22 22 22 22 22 22 22 22 22 22 22 22 22 22 22 22 22 22 22 22 22 22 22 22 22 22 22 22 22 22 22 22 22 22 22 22 22 22 22 22 22 22 22 22 22 22 22 22 22 22 22 children 22 22 22 22 22 22 22 22 22 22 22 22 22 22 22 22 22 22 22 22 22 22 22 22 22 22 22 22 22 22 22 22 22 22 22 22 22 22 22 22 22 22 22 22 22 22 22 22 22 22 22 22 22 22 22 22 22 22 22 22 22 22 22 22 22 22 22 22 22 22 22 22 22 22 22 22 22 22 22 22 22 22 22 22 22 22 22 22 22 22 22 22 22 22 22 22 22 22 22 22\n",
      "22 22 children 22 22 22 by children 22 children children children 22 by 22 children have 22 22 22 22 22 22 22 another children 22 another 22 children another children children another another 22 another another another children another 22 22 22 22 22 22 22 22 22 22 22 22 22 22 22 22 22 22 22 22 22 22 22 22 22 22 22 22 22 22 22 22 22 22 22 22 22 22 22 22 22 22 children 22 22 22 22 22 22 22 22 22 22 22 22 22 22 22 22 22 22 22 22 22 22 22 22 22 22 22 22 22 22 22 22 22 22 22 22 22 22 22 22 22 22 22 22 22 22 22 22 22 22 22 22 22 22 22 22 22 22 22 22 22 22 22 22 22 22 22 22 another another another another 22 22 another 22 22 22 22 22 22 22 another 22 22 22 22 22 22 22 22 22 22 22 22 22 22 22 22 22 22 22 22 22 22 22 22 22 22 22 22 22 22 22 22 22\n",
      "22 22 children 22 22 22 by children 22 children children children 22 by 22 children have 22 22 22 22 22 22 children another children 22 another 22 22 another another 22 another children children another another children another 22 children 22 22 22 22 22 22 22 22 22 22 22 22 22 22 22 22 22 22 22 22 22 22 22 22 22 22 22 22 22 22 22 22 22 22 22 22 22 22 22 22 22 22 22 22 22 22 22 22 22 22 22 22 22 22 22 22 22 children 22 22 22 22 22 22 22 22 22 22 22 22 22 22 22 22 22 22 22 22 22 22 22 22 22 22 22 22 22 22 22 22 22 22 22 22 22 22 22 22 22 22 22 22 22 22 22 22 22 22 22 22 22 22 22 22 22 22 22 22 22 22 22 22 22 22 22 22 22 22 22 22 22 22 22 22 22 22 22 22 22 22 22 22 22 22 22 22 22 22 22 22 22 22 22 22 22 22 22 22\n",
      "22 22 children 22 22 22 by children 22 children children children 22 by 22 children have 22 22 22 22 22 22 children another children 22 another 22 22 another another 22 another children children another another children another 22 children 22 22 22 22 22 22 22 22 22 22 22 22 22 22 22 22 22 22 22 22 22 22 22 22 22 22 22 22 22 22 22 22 22 22 22 22 22 22 22 22 22 22 22 22 22 22 22 22 22 22 22 22 22 22 22 22 22 children 22 22 22 22 22 22 22 22 22 22 22 22 22 22 22 22 22 22 22 22 22 22 22 22 22 22 22 22 22 22 22 22 22 22 22 22 22 22 22 22 22 22 22 22 22 22 22 22 22 22 22 22 22 22 22 22 22 22 22 22 22 22 22 22 22 22 22 22 22 22 22 22 22 22 22 22 22 22 22 22 22 22 22 22 22 22 22 22 22 22 22 22 22 22 22 22 22 22 22 22\n",
      "22 22 children 22 22 22 by children 22 children children children 22 by 22 children have 22 22 22 22 22 22 22 22 another 22 22 22 22 children another another 22 another children 22 another another children children another children another 22 children 22 22 22 22 22 22 22 22 22 22 22 22 22 22 22 22 22 22 22 22 22 22 22 22 22 22 22 22 22 22 22 22 22 22 22 22 22 22 22 22 22 22 22 22 22 22 22 22 22 22 22 22 22 children 22 22 22 22 22 22 22 22 22 22 22 22 22 22 22 22 22 22 22 22 22 22 22 22 22 22 22 22 22 22 22 22 22 22 22 22 22 22 22 22 22 22 22 22 22 22 22 22 22 22 22 22 22 22 22 22 22 22 22 22 22 22 22 22 22 22 22 22 22 22 22 22 22 22 22 22 22 22 22 22 22 22 22 22 22 22 22 22 22 22 22 22 22 22 22 22 22 22 22 22\n",
      "22 22 children 22 22 22 by children 22 children children children 22 by 22 children have 22 22 22 22 22 22 children another 22 22 another children 22 another 22 another another children children another children another another another 22 children 22 22 22 children 22 22 22 22 22 22 22 22 22 22 22 22 22 22 22 22 22 22 22 22 22 22 22 22 22 22 22 22 22 22 22 22 22 22 22 22 22 22 22 22 22 22 22 22 22 22 22 22 22 22 22 22 22 22 22 22 22 22 22 22 22 22 22 22 22 22 22 22 22 22 22 22 22 22 22 22 22 22 22 22 22 22 22 22 22 22 22 22 22 22 22 22 22 22 22 22 22 22 22 22 22 22 22 22 22 22 another another another 22 22 another 22 22 22 22 22 22 22 another 22 22 22 22 22 22 22 22 22 22 22 22 22 22 22 22 22 22 22 22 22 22 22 22 22 22 22 22 22 22 22 22 22\n",
      "22 22 children 22 22 22 by children 22 children children children 22 by 22 children have 22 22 22 22 22 22 children another 22 22 another children 22 another 22 another another children children another children another another another 22 children 22 22 22 children 22 22 22 22 22 22 22 22 22 22 22 22 22 22 22 22 22 22 22 22 22 22 22 22 22 22 22 22 22 22 22 22 22 22 22 22 22 22 22 22 22 22 22 22 22 22 22 22 22 22 22 22 22 22 22 22 22 22 22 22 22 22 22 22 22 22 22 22 22 22 22 22 22 22 22 22 22 22 22 22 22 22 22 22 22 22 22 22 22 22 22 22 22 22 22 22 22 22 22 22 22 22 22 22 22 22 another another another 22 22 another 22 22 22 22 22 22 22 another 22 22 22 22 22 22 22 22 22 22 22 22 22 22 22 22 22 22 22 22 22 22 22 22 22 22 22 22 22 22 22 22 22\n",
      "22 22 children 22 22 22 by children 22 children children children 22 by 22 by by 22 children another children 22 22 another another 22 another children children another another children another 22 children 22 another 22 22 22 22 22 22 22 22 children 22 22 22 22 22 22 22 22 22 22 22 22 22 22 22 22 22 22 22 22 22 22 22 22 22 22 22 22 22 22 22 22 22 22 22 22 22 22 22 22 22 22 22 22 22 22 22 22 22 22 22 22 22 22 22 22 22 22 22 22 22 22 22 22 22 22 22 22 22 22 22 22 22 22 22 22 22 22 22 22 22 22 22 22 22 22 22 22 22 22 22 22 22 22 22 22 22 22 22 22 22 22 22 22 22 another another another another 22 another 22 another 22 another 22 another another 22 another another 22 22 22 22 22 22 22 22 22 22 22 22 22 22 22 22 22 22 22 22 22 22 22 22 22 22 22 22 22 another 22 22 22\n",
      "22 22 children 22 22 22 by children 22 children children children 22 by 22 children have 22 22 22 children another children 22 another 22 22 another another 22 another children children another another children another 22 children 22 22 22 22 22 22 22 22 22 22 22 22 22 22 22 22 22 22 22 22 22 22 22 22 22 22 22 22 22 22 22 22 22 22 22 22 22 22 22 22 22 22 22 22 22 22 22 22 22 22 22 22 22 22 22 22 22 22 22 22 children 22 22 22 22 22 22 22 22 22 22 22 22 22 22 22 22 22 22 22 22 22 22 22 22 22 22 22 22 22 22 22 22 22 22 22 22 22 22 22 22 22 22 22 22 22 22 22 22 22 22 22 22 22 22 22 22 22 22 22 22 22 22 22 22 22 22 22 22 22 22 22 22 22 22 22 22 22 22 22 22 22 22 22 22 22 22 22 22 22 22 22 22 22 22 22 22 22 22 22 22\n"
     ]
    }
   ],
   "source": [
    "%run ./src/run.py  --model_name \"graphsum\" \\\n",
    "               --use_cuda False \\\n",
    "               --is_distributed false \\\n",
    "               --use_multi_gpu_test true \\\n",
    "               --use_fast_executor true \\\n",
    "               --use_fp16 false \\\n",
    "               --use_dynamic_loss_scaling false \\\n",
    "               --init_loss_scaling -128 \\\n",
    "               --weight_sharing true \\\n",
    "               --do_train true \\\n",
    "               --do_val false \\\n",
    "               --do_test true \\\n",
    "               --do_dec true \\\n",
    "               --verbose true \\\n",
    "               --batch_size 512 \\\n",
    "               --in_tokens true \\\n",
    "               --stream_job \"\" \\\n",
    "               --init_pretraining_params \"\" \\\n",
    "               --train_set \"E:/graphsum/data/MultiNews_data_tfidf_30_paddle/local_train\" \\\n",
    "               --dev_set \"E:/graphsum/data/MultiNews_data_tfidf_30_paddle/local_valid\" \\\n",
    "               --test_set \"E:/graphsum/data/MultiNews_data_tfidf_30_paddle/local_test\" \\\n",
    "               --vocab_path \"E:/graphsum/data/spm9998_3.model\" \\\n",
    "               --config_path ./model_config/graphsum_config.json \\\n",
    "               --checkpoints ./models/graphsum_multinews \\\n",
    "               --decode_path ./results/graphsum_multinews \\\n",
    "               --lr_scheduler \"noam_decay\" \\\n",
    "               --save_steps 100 \\\n",
    "               --weight_decay 0.01 \\\n",
    "               --warmup_steps 2 \\\n",
    "               --validation_steps 100 \\\n",
    "               --epoch 1 \\\n",
    "               --beam_size 3 \\\n",
    "               --max_para_num 30 \\\n",
    "               --max_para_len 60 \\\n",
    "               --max_tgt_len 10 \\\n",
    "               --max_out_len 300 \\\n",
    "               --min_out_len 200 \\\n",
    "               --graph_type \"similarity\" \\\n",
    "               --len_penalty 0.6 \\\n",
    "               --block_trigram True \\\n",
    "               --report_rouge True \\\n",
    "               --learning_rate 2.0 \\\n",
    "               --skip_steps 10 \\\n",
    "               --grad_norm 2.0 \\\n",
    "               --pos_win 2.0 \\\n",
    "               --label_smooth_eps 0.1 \\\n",
    "               --num_iteration_per_drop_scope 10 \\\n",
    "               --log_file \"log/graphsum_multinews.log\" \\\n",
    "               --random_seed 1"
   ]
  },
  {
   "cell_type": "code",
   "execution_count": null,
   "metadata": {},
   "outputs": [],
   "source": []
  }
 ],
 "metadata": {
  "kernelspec": {
   "display_name": "Python 3",
   "language": "python",
   "name": "python3"
  },
  "language_info": {
   "codemirror_mode": {
    "name": "ipython",
    "version": 3
   },
   "file_extension": ".py",
   "mimetype": "text/x-python",
   "name": "python",
   "nbconvert_exporter": "python",
   "pygments_lexer": "ipython3",
   "version": "3.7.2"
  }
 },
 "nbformat": 4,
 "nbformat_minor": 4
}
