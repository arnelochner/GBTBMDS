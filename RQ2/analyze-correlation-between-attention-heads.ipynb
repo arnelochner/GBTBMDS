{
 "cells": [
  {
   "cell_type": "code",
   "execution_count": 1,
   "metadata": {},
   "outputs": [],
   "source": [
    "import numpy as np\n",
    "import pickle\n",
    "import sys\n",
    "import matplotlib.pyplot as plt\n",
    "sys.path.insert(0, '../')\n",
    "from transform_attention_weights_lib import transform_attention_weights\n",
    "from aggregation_sentence_information_lib import aggregate_weight_information_for_sentences"
   ]
  },
  {
   "cell_type": "code",
   "execution_count": 2,
   "metadata": {},
   "outputs": [],
   "source": [
    "import scipy.stats as stats"
   ]
  },
  {
   "cell_type": "code",
   "execution_count": 3,
   "metadata": {},
   "outputs": [],
   "source": [
    "arne=False\n",
    "lautaro_and_fabi=False\n",
    "server=True\n",
    "\n",
    "if arne:\n",
    "    weights = np.load(r\"E:\\graphsum\\data\\attention_weights_with_meta_information\\pretrained_attention_weights.npy\")\n",
    "    parent_idx = np.load(r\"E:\\graphsum\\data\\attention_weights_with_meta_information\\parent_idx.npy\")\n",
    "    scores = np.load(r\"E:\\graphsum\\data\\attention_weights_with_meta_information\\scores.npy\")\n",
    "    result_dict = pickle.load(open(r\"E:\\graphsum\\data\\attention_weights_with_meta_information\\save_dict\" ,\"rb\"))\n",
    "elif lautaro_and_fabi:\n",
    "    weights = np.load(\"./data/attention_weights/pretrained_attention_weights.npy\")\n",
    "    parent_idx = np.load(\"./data/attention_weights/parent_idx.npy\")\n",
    "    scores = np.load(\"./data/attention_weights/scores.npy\")\n",
    "    result_dict = pickle.load(open(\"./data/attention_weights/save_dict\" ,\"rb\"))\n",
    "elif server:\n",
    "    weights_list = []\n",
    "    scores_list = []\n",
    "    result_dicts_list = []\n",
    "    for i in range(13):\n",
    "        weights = np.load(\"/home/lochner/RQ2/GBTBMDS/saved_attention_weights/pretrained_attention_weights_%s.npy\"  % str(i))\n",
    "        parent_idx = np.load(\"/home/lochner/RQ2/GBTBMDS/saved_attention_weights/parent_idx_%s.npy\" % str(i) )\n",
    "        scores = np.load(\"/home/lochner/RQ2/GBTBMDS/saved_attention_weights/scores_%s.npy\"  % str(i))\n",
    "        result_dicts = pickle.load(open(\"/home/lochner/RQ2/GBTBMDS/saved_attention_weights/save_dict_%s\" % str(i) ,\"rb\"))\n",
    "\n",
    "        result_dicts[\"beam_length\"] = np.where(result_dicts[\"beam_length\"] < 301, result_dicts[\"beam_length\"], 300)\n",
    "        result_dicts[\"longest_beam_array\"] = np.where(result_dicts[\"longest_beam_array\"] < 301, result_dicts[\"longest_beam_array\"], 300)\n",
    "\n",
    "        \n",
    "        cleaned_weight_matrix, cleaned_score_matrix = transform_attention_weights(weights, parent_idx, scores, result_dicts)\n",
    "        weights_list.append(cleaned_weight_matrix)\n",
    "        result_dicts_list.append(result_dicts)\n",
    "        scores_list.append(cleaned_score_matrix)\n",
    "    \n",
    "    cleaned_weight_matrix = np.concatenate(weights_list)\n",
    "    cleaned_score_matrix = np.concatenate(scores_list)\n",
    "   \n",
    "\n",
    "result_dict = dict()\n",
    "for key in ['longest_beam_array', 'data_ids', 'summary_beam_list', 'number_of_textual_units', 'scores_array', 'token_beam_array', 'beam_length']:\n",
    "    \n",
    "    result_dict[key] = np.concatenate([result_dicts_list[i][key] for i in range(13)])\n"
   ]
  },
  {
   "cell_type": "code",
   "execution_count": 4,
   "metadata": {},
   "outputs": [],
   "source": [
    "r = pickle.load(open(\"../r.p\", \"rb\"))"
   ]
  },
  {
   "cell_type": "code",
   "execution_count": 5,
   "metadata": {},
   "outputs": [],
   "source": [
    "def prepare_input(input_matrix, meta_information):\n",
    "    \n",
    "    decoding_layers = [[] for i in range(8)]\n",
    "    \n",
    "    multi_heads = [[] for i in range(8)]\n",
    "    \n",
    "    num_examples = input_matrix.shape[0]\n",
    "    \n",
    "    for idx in range(num_examples):\n",
    "        beam_length = meta_information[idx][0]\n",
    "        \n",
    "        \n",
    "        ex = input_matrix[idx,0,:int(beam_length-1),:,:,:]\n",
    "              \n",
    "       \n",
    "        \n",
    "        for j in range(8):\n",
    "            decoding_layers[j].extend(ex[:,j,:,:].reshape(-1,))\n",
    "            multi_heads[j].extend(ex[:,:,j,:].reshape(-1,))\n",
    "            \n",
    "    return decoding_layers, multi_heads\n",
    "        \n",
    "        "
   ]
  },
  {
   "cell_type": "code",
   "execution_count": 6,
   "metadata": {},
   "outputs": [],
   "source": [
    "def prepare_input_spearmanr(input_matrix, meta_information):\n",
    "    \n",
    "    decoding_layers = [[] for i in range(8)]\n",
    "    \n",
    "    multi_heads = [[] for i in range(8)]\n",
    "    \n",
    "    num_examples = input_matrix.shape[0]\n",
    "    \n",
    "    for idx in range(num_examples):\n",
    "        beam_length = meta_information[idx][0]\n",
    "        \n",
    "        \n",
    "        ex = input_matrix[idx,0,:int(beam_length-1),:,:,:]\n",
    "        \n",
    "       \n",
    "        \n",
    "        for j in range(8):\n",
    "            decoding_layers[j].extend(\n",
    "                (np.argsort(np.argsort(ex[:,j,:,:])) + 1).reshape(-1,)\n",
    "            )\n",
    "            multi_heads[j].extend((np.argsort(np.argsort(ex[:,:,j,:])) + 1).reshape(-1,))\n",
    "            \n",
    "    return decoding_layers, multi_heads\n",
    "        \n",
    "        "
   ]
  },
  {
   "cell_type": "code",
   "execution_count": 7,
   "metadata": {},
   "outputs": [],
   "source": [
    "d_test, m_test = prepare_input_spearmanr(cleaned_weight_matrix[:,0,:,:,:,:][:,None,:,:,:,:], result_dict[\"beam_length\"][:,0][:,None])"
   ]
  },
  {
   "cell_type": "code",
   "execution_count": 18,
   "metadata": {},
   "outputs": [],
   "source": [
    "def calculate_correlation(multi_heads, decoding_layers):    \n",
    "        \n",
    "    multi_head_corr = np.corrcoef(multi_heads)\n",
    "    \n",
    "    decoding_layers_corr = np.corrcoef(decoding_layers)\n",
    "    \n",
    "    print(f\"Multi-Head: mean {np.mean(multi_head_corr)} | min {np.min(multi_head_corr)} \")\n",
    "    \n",
    "    plt.figure()\n",
    "    plt.imshow(multi_head_corr)\n",
    "    plt.colorbar()\n",
    "    plt.savefig(\"multi_head_corr.pdf\")\n",
    "    plt.show()\n",
    "    \n",
    "    print(f\"Decoding-Layer: mean {np.mean(decoding_layers_corr)} | min {np.min(decoding_layers_corr)} \")\n",
    "    \n",
    "    plt.figure()\n",
    "    plt.imshow(decoding_layers_corr)\n",
    "    plt.colorbar()\n",
    "    plt.savefig(\"decoding_layer_corr.pdf\")\n",
    "    plt.show()\n",
    "    \n",
    "    \n",
    "\n",
    "    \n",
    "    return multi_head_corr, decoding_layers_corr\n",
    "\n",
    "def calculate_correlation_with_threshold(multi_heads, decoding_layers, threshold):\n",
    "    \n",
    "    multi_head_corr = np.ones(shape=[8,8])\n",
    "    decoding_layers_corr = np.ones(shape=[8,8])\n",
    "    \n",
    "    for i in range(8):\n",
    "        for j in range(8):\n",
    "            if i == j:\n",
    "                break\n",
    "            head_0_index = np.where(np.array(multi_heads[i]) > threshold)\n",
    "            head_1_index = np.where(np.array(multi_heads[j]) > threshold)\n",
    "            \n",
    "            complete_head_index = head_0_index + head_1_index \n",
    "\n",
    "            \n",
    "            decoding_0_index = np.where(np.array(decoding_layers[i]) > threshold)\n",
    "            decoding_1_index = np.where(np.array(decoding_layers[j]) > threshold)\n",
    "            \n",
    "            decoding_complete_index = decoding_0_index + decoding_1_index\n",
    "\n",
    "            \n",
    "            multi_head_corr[i,j] = np.corrcoef(np.array(multi_heads[i])[np.concatenate(complete_head_index)], np.array(multi_heads[j])[np.concatenate(complete_head_index)])[0,1]\n",
    "            \n",
    "            multi_head_corr[j,i] = multi_head_corr[i,j]\n",
    "            \n",
    "            decoding_layers_corr[i,j] = np.corrcoef(np.array(decoding_layers[i])[np.concatenate(decoding_complete_index)], np.array(decoding_layers[j])[np.concatenate(decoding_complete_index)])[0,1]\n",
    "            \n",
    "            decoding_layers_corr[j,i] = decoding_layers_corr[i,j]\n",
    "    \n",
    "    \n",
    "    print(f\"Multi-Head: mean {np.mean(multi_head_corr)} | min {np.min(multi_head_corr)} \")\n",
    "    \n",
    "    plt.figure()\n",
    "    plt.imshow(multi_head_corr)\n",
    "    plt.colorbar()\n",
    "    plt.show()\n",
    "    \n",
    "    print(f\"Decoding-Layer: mean {np.mean(decoding_layers_corr)} | min {np.min(decoding_layers_corr)} \")\n",
    "    \n",
    "    plt.figure()\n",
    "    plt.imshow(decoding_layers_corr)\n",
    "    plt.colorbar()\n",
    "    plt.show()\n",
    "    \n",
    "    \n",
    "    \n",
    "    return multi_head_corr, decoding_layers_corr\n",
    "    \n",
    "    "
   ]
  },
  {
   "cell_type": "code",
   "execution_count": 9,
   "metadata": {},
   "outputs": [],
   "source": [
    "def calculate_spearman_correlation(multi_heads, decoding_layers):    \n",
    "    \n",
    "    multi_head_corr = stats.spearmanr(multi_heads,axis=1)[0]\n",
    "    \n",
    "    decoding_layers_corr = stats.spearmanr(decoding_layers,axis=1)[0]\n",
    "    \n",
    "    print(f\"Multi-Head: mean {np.mean(multi_head_corr)} | min {np.min(multi_head_corr)} \")\n",
    "    \n",
    "    plt.figure()\n",
    "    plt.imshow(multi_head_corr, vmin=0.5, vmax=1)\n",
    "    plt.colorbar()\n",
    "    plt.show()\n",
    "    \n",
    "    print(f\"Decoding-Layer: mean {np.mean(decoding_layers_corr)} | min {np.min(decoding_layers_corr)} \")\n",
    "    \n",
    "    plt.figure()\n",
    "    plt.imshow(decoding_layers_corr, vmin=0.5, vmax=1)\n",
    "    plt.colorbar()\n",
    "    plt.show()\n",
    "    \n",
    "    \n",
    "    \n",
    "    return multi_head_corr, decoding_layers_corr\n",
    "    "
   ]
  },
  {
   "cell_type": "code",
   "execution_count": 10,
   "metadata": {},
   "outputs": [
    {
     "name": "stdout",
     "output_type": "stream",
     "text": [
      "Multi-Head: mean 0.644932933692702 | min 0.5143584815372538 \n"
     ]
    },
    {
     "data": {
      "image/png": "[encoded data removed]",
      "text/plain": [
       "<Figure size 432x288 with 2 Axes>"
      ]
     },
     "metadata": {
      "needs_background": "light"
     },
     "output_type": "display_data"
    },
    {
     "name": "stdout",
     "output_type": "stream",
     "text": [
      "Decoding-Layer: mean 0.5937258047885751 | min 0.41859288926696697 \n"
     ]
    },
    {
     "data": {
      "image/png": "[encoded data removed]",
      "text/plain": [
       "<Figure size 432x288 with 2 Axes>"
      ]
     },
     "metadata": {
      "needs_background": "light"
     },
     "output_type": "display_data"
    }
   ],
   "source": [
    "m_spear, d_spear = calculate_spearman_correlation(m_test, d_test)"
   ]
  },
  {
   "cell_type": "code",
   "execution_count": 11,
   "metadata": {},
   "outputs": [],
   "source": [
    "token_decoding,token_multi_head  = prepare_input(cleaned_weight_matrix[:,0,:,:,:,:][:,None,:,:,:,:], result_dict[\"beam_length\"][:,0][:,None])"
   ]
  },
  {
   "cell_type": "code",
   "execution_count": 12,
   "metadata": {},
   "outputs": [
    {
     "name": "stdout",
     "output_type": "stream",
     "text": [
      "Multi-Head: mean 0.6572274947101049 | min 0.3807323756099385 \n"
     ]
    },
    {
     "data": {
      "image/png": "[encoded data removed]",
      "text/plain": [
       "<Figure size 432x288 with 2 Axes>"
      ]
     },
     "metadata": {
      "needs_background": "light"
     },
     "output_type": "display_data"
    },
    {
     "name": "stdout",
     "output_type": "stream",
     "text": [
      "Decoding-Layer: mean 0.3471897196612951 | min 0.027742558663394278 \n"
     ]
    },
    {
     "data": {
      "image/png": "[encoded data removed]",
      "text/plain": [
       "<Figure size 432x288 with 2 Axes>"
      ]
     },
     "metadata": {
      "needs_background": "light"
     },
     "output_type": "display_data"
    }
   ],
   "source": [
    "t_m,t_d = calculate_correlation_with_threshold(token_multi_head, token_decoding, 0.05)"
   ]
  },
  {
   "cell_type": "code",
   "execution_count": 19,
   "metadata": {},
   "outputs": [
    {
     "name": "stdout",
     "output_type": "stream",
     "text": [
      "Multi-Head: mean 0.7192955274934009 | min 0.4911719322340138 \n"
     ]
    },
    {
     "data": {
      "image/png": "[encoded data removed]",
      "text/plain": [
       "<Figure size 432x288 with 2 Axes>"
      ]
     },
     "metadata": {
      "needs_background": "light"
     },
     "output_type": "display_data"
    },
    {
     "name": "stdout",
     "output_type": "stream",
     "text": [
      "Decoding-Layer: mean 0.5365844539681838 | min 0.2439005529791923 \n"
     ]
    },
    {
     "data": {
      "image/png": "[encoded data removed]",
      "text/plain": [
       "<Figure size 432x288 with 2 Axes>"
      ]
     },
     "metadata": {
      "needs_background": "light"
     },
     "output_type": "display_data"
    }
   ],
   "source": [
    "t_m,t_d = calculate_correlation(token_multi_head, token_decoding)"
   ]
  },
  {
   "cell_type": "code",
   "execution_count": null,
   "metadata": {},
   "outputs": [],
   "source": []
  }
 ],
 "metadata": {
  "kernelspec": {
   "display_name": "Python 3",
   "language": "python",
   "name": "python3"
  },
  "language_info": {
   "codemirror_mode": {
    "name": "ipython",
    "version": 3
   },
   "file_extension": ".py",
   "mimetype": "text/x-python",
   "name": "python",
   "nbconvert_exporter": "python",
   "pygments_lexer": "ipython3",
   "version": "3.6.10"
  }
 },
 "nbformat": 4,
 "nbformat_minor": 4
}
