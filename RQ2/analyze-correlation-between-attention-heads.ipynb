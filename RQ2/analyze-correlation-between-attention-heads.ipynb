{
 "cells": [
  {
   "cell_type": "code",
   "execution_count": 3,
   "metadata": {},
   "outputs": [],
   "source": [
    "import numpy as np\n",
    "import pickle\n",
    "import sys\n",
    "import matplotlib.pyplot as plt\n",
    "sys.path.insert(0, '../')\n",
    "from transform_attention_weights_lib import transform_attention_weights\n",
    "from aggregation_sentence_information_lib import aggregate_weight_information_for_sentences"
   ]
  },
  {
   "cell_type": "code",
   "execution_count": 4,
   "metadata": {},
   "outputs": [],
   "source": [
    "weights = np.load(r\"E:\\graphsum\\data\\attention_weights_with_meta_information\\pretrained_attention_weights.npy\")\n",
    "parent_idx = np.load(r\"E:\\graphsum\\data\\attention_weights_with_meta_information\\parent_idx.npy\")\n",
    "scores = np.load(r\"E:\\graphsum\\data\\attention_weights_with_meta_information\\scores.npy\")\n",
    "result_dict = pickle.load(open(r\"E:\\graphsum\\data\\attention_weights_with_meta_information\\save_dict\" ,\"rb\"))\n"
   ]
  },
  {
   "cell_type": "code",
   "execution_count": 86,
   "metadata": {},
   "outputs": [
    {
     "data": {
      "text/plain": [
       "array([[208., 206., 220., 222., 300.],\n",
       "       [260., 300., 300., 300., 300.],\n",
       "       [300., 300., 300., 300., 300.],\n",
       "       [210., 264., 261., 300., 300.],\n",
       "       [288., 290., 290., 300., 300.],\n",
       "       [291., 290., 300., 300., 300.],\n",
       "       [215., 215., 229., 234., 235.],\n",
       "       [253., 268., 274., 277., 278.],\n",
       "       [203., 204., 207., 203., 209.],\n",
       "       [269., 269., 294., 298., 300.]])"
      ]
     },
     "execution_count": 86,
     "metadata": {},
     "output_type": "execute_result"
    }
   ],
   "source": [
    "result_dict[\"beam_length\"]"
   ]
  },
  {
   "cell_type": "code",
   "execution_count": 5,
   "metadata": {},
   "outputs": [],
   "source": [
    "finished_scores_array = result_dict[\"scores_array\"]"
   ]
  },
  {
   "cell_type": "code",
   "execution_count": 6,
   "metadata": {},
   "outputs": [],
   "source": [
    "cleaned_weight_matrix, cleaned_score_matrix = transform_attention_weights(weights, parent_idx, scores, result_dict)"
   ]
  },
  {
   "cell_type": "code",
   "execution_count": 58,
   "metadata": {},
   "outputs": [],
   "source": [
    "r = aggregate_weight_information_for_sentences(cleaned_weight_matrix, result_dict)"
   ]
  },
  {
   "cell_type": "code",
   "execution_count": 24,
   "metadata": {},
   "outputs": [],
   "source": [
    "example_0  = cleaned_weight_matrix[0,0,:208,:,:,:]"
   ]
  },
  {
   "cell_type": "code",
   "execution_count": 25,
   "metadata": {},
   "outputs": [
    {
     "data": {
      "text/plain": [
       "(208, 8, 8, 30)"
      ]
     },
     "execution_count": 25,
     "metadata": {},
     "output_type": "execute_result"
    }
   ],
   "source": [
    "example_0.shape"
   ]
  },
  {
   "cell_type": "code",
   "execution_count": 39,
   "metadata": {},
   "outputs": [],
   "source": [
    "multi_heads = [example_0[:,:,i,:].reshape(-1,) for i in range(8)]"
   ]
  },
  {
   "cell_type": "code",
   "execution_count": 41,
   "metadata": {},
   "outputs": [
    {
     "data": {
      "text/plain": [
       "(8, 49920)"
      ]
     },
     "execution_count": 41,
     "metadata": {},
     "output_type": "execute_result"
    }
   ],
   "source": [
    "np.array(multi_heads).shape"
   ]
  },
  {
   "cell_type": "code",
   "execution_count": 46,
   "metadata": {},
   "outputs": [
    {
     "data": {
      "text/plain": [
       "0.3457039385563825"
      ]
     },
     "execution_count": 46,
     "metadata": {},
     "output_type": "execute_result"
    }
   ],
   "source": [
    "np.min(np.corrcoef(multi_heads))"
   ]
  },
  {
   "cell_type": "code",
   "execution_count": 53,
   "metadata": {},
   "outputs": [
    {
     "data": {
      "text/plain": [
       "0.6376400373952814"
      ]
     },
     "execution_count": 53,
     "metadata": {},
     "output_type": "execute_result"
    }
   ],
   "source": [
    "np.mean(np.corrcoef(multi_heads))"
   ]
  },
  {
   "cell_type": "code",
   "execution_count": 47,
   "metadata": {},
   "outputs": [
    {
     "data": {
      "text/plain": [
       "1.0"
      ]
     },
     "execution_count": 47,
     "metadata": {},
     "output_type": "execute_result"
    }
   ],
   "source": [
    "np.max(np.corrcoef(multi_heads))"
   ]
  },
  {
   "cell_type": "code",
   "execution_count": 48,
   "metadata": {},
   "outputs": [],
   "source": [
    "decoding_layers = [example_0[:,i,:,:].reshape(-1,) for i in range(8)]"
   ]
  },
  {
   "cell_type": "code",
   "execution_count": 98,
   "metadata": {},
   "outputs": [],
   "source": [
    "def prepare_input(input_matrix, meta_information):\n",
    "    \n",
    "    decoding_layers = [[] for i in range(8)]\n",
    "    \n",
    "    multi_heads = [[] for i in range(8)]\n",
    "    \n",
    "    num_examples = input_matrix.shape[0]\n",
    "    \n",
    "    for idx in range(num_examples):\n",
    "        beam_length = meta_information[idx][0]\n",
    "        \n",
    "        \n",
    "        ex = input_matrix[idx,0,:int(beam_length),:,:,:]\n",
    "        \n",
    "        for j in range(8):\n",
    "            decoding_layers[j].extend(ex[:,j,:,:].reshape(-1,))\n",
    "            multi_heads[j].extend(ex[:,:,j,:].reshape(-1,))\n",
    "            \n",
    "    return decoding_layers, multi_heads\n",
    "        \n",
    "        "
   ]
  },
  {
   "cell_type": "code",
   "execution_count": 104,
   "metadata": {},
   "outputs": [],
   "source": [
    "def calculate_correlation(multi_heads, decoding_layers):    \n",
    "    \n",
    "    multi_head_corr = np.corrcoef(multi_heads)\n",
    "    \n",
    "    decoding_layers_corr = np.corrcoef(decoding_layers)\n",
    "    \n",
    "    print(f\"Multi-Head: mean {np.mean(multi_head_corr)} | min {np.min(multi_head_corr)} \")\n",
    "    \n",
    "    plt.figure()\n",
    "    plt.imshow(multi_head_corr)\n",
    "    plt.colorbar()\n",
    "    plt.show()\n",
    "    \n",
    "    print(f\"Decoding-Layer: mean {np.mean(decoding_layers_corr)} | min {np.min(decoding_layers_corr)} \")\n",
    "    \n",
    "    plt.figure()\n",
    "    plt.imshow(decoding_layers_corr)\n",
    "    plt.colorbar()\n",
    "    plt.show()\n",
    "    \n",
    "    \n",
    "    \n",
    "    return multi_head_corr, decoding_layers_corr\n",
    "    "
   ]
  },
  {
   "cell_type": "code",
   "execution_count": 103,
   "metadata": {},
   "outputs": [],
   "source": [
    "token_decoding,token_multi_head  = prepare_input(cleaned_weight_matrix, result_dict[\"beam_length\"])"
   ]
  },
  {
   "cell_type": "code",
   "execution_count": 105,
   "metadata": {},
   "outputs": [
    {
     "name": "stdout",
     "output_type": "stream",
     "text": [
      "Multi-Head: mean 0.7075962705627366 | min 0.49053456748357904 \n"
     ]
    },
    {
     "data": {
      "image/png": "[encoded data removed]",
      "text/plain": [
       "<Figure size 432x288 with 2 Axes>"
      ]
     },
     "metadata": {
      "needs_background": "light"
     },
     "output_type": "display_data"
    },
    {
     "name": "stdout",
     "output_type": "stream",
     "text": [
      "Decoding-Layer: mean 0.5231908250639076 | min 0.22648976291268164 \n"
     ]
    },
    {
     "data": {
      "image/png": "[encoded data removed]",
      "text/plain": [
       "<Figure size 432x288 with 2 Axes>"
      ]
     },
     "metadata": {
      "needs_background": "light"
     },
     "output_type": "display_data"
    }
   ],
   "source": [
    "t_m,t_d = calculate_correlation(token_multi_head, token_decoding)"
   ]
  },
  {
   "cell_type": "code",
   "execution_count": 80,
   "metadata": {},
   "outputs": [
    {
     "name": "stdout",
     "output_type": "stream",
     "text": [
      "Multi-Head: mean 0.7276282314331988 | min 0.4110441506195188 \n"
     ]
    },
    {
     "data": {
      "image/png": "[encoded data removed]",
      "text/plain": [
       "<Figure size 432x288 with 2 Axes>"
      ]
     },
     "metadata": {
      "needs_background": "light"
     },
     "output_type": "display_data"
    },
    {
     "name": "stdout",
     "output_type": "stream",
     "text": [
      "Decoding-Layer: mean 0.4964793528775562 | min 0.1200007176712782 \n"
     ]
    },
    {
     "data": {
      "image/png": "[encoded data removed]",
      "text/plain": [
       "<Figure size 432x288 with 2 Axes>"
      ]
     },
     "metadata": {
      "needs_background": "light"
     },
     "output_type": "display_data"
    }
   ],
   "source": [
    "m,d = calculate_correlation(r[\"Mean\"][0,0,:6,:,:,:])"
   ]
  },
  {
   "cell_type": "code",
   "execution_count": 69,
   "metadata": {},
   "outputs": [
    {
     "data": {
      "text/plain": [
       "0.7276282314331988"
      ]
     },
     "execution_count": 69,
     "metadata": {},
     "output_type": "execute_result"
    }
   ],
   "source": [
    "np.mean(m)"
   ]
  },
  {
   "cell_type": "code",
   "execution_count": 70,
   "metadata": {},
   "outputs": [
    {
     "data": {
      "text/plain": [
       "0.4964793528775562"
      ]
     },
     "execution_count": 70,
     "metadata": {},
     "output_type": "execute_result"
    }
   ],
   "source": [
    "np.mean(d)"
   ]
  }
 ],
 "metadata": {
  "kernelspec": {
   "display_name": "Python 3.7.2 64-bit",
   "language": "python",
   "name": "python37264bitb758941065764c65be30b5af71a2fbcf"
  },
  "language_info": {
   "codemirror_mode": {
    "name": "ipython",
    "version": 3
   },
   "file_extension": ".py",
   "mimetype": "text/x-python",
   "name": "python",
   "nbconvert_exporter": "python",
   "pygments_lexer": "ipython3",
   "version": "3.7.2"
  }
 },
 "nbformat": 4,
 "nbformat_minor": 4
}
