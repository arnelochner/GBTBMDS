{
 "cells": [
  {
   "cell_type": "code",
   "execution_count": 1,
   "metadata": {},
   "outputs": [],
   "source": [
    "!set FLAGS_fraction_of_gpu_memory_to_use=0.9"
   ]
  },
  {
   "cell_type": "code",
   "execution_count": null,
   "metadata": {
    "scrolled": false
   },
   "outputs": [
    {
     "name": "stderr",
     "output_type": "stream",
     "text": [
      "[2020-12-22 11:51:21,720 INFO] {'BOS': 4, 'EOS': 5, 'PAD': 6, 'EOT': 3, 'EOP': 7, 'EOQ': 8, 'UNK': 0}\n",
      "[2020-12-22 11:51:21,722 WARNING] paddle.fluid.layers.py_reader() may be deprecated in the near future. Please use paddle.fluid.io.DataLoader.from_generator() instead.\n"
     ]
    },
    {
     "name": "stdout",
     "output_type": "stream",
     "text": [
      "attention_probs_dropout_prob: 0.1\n",
      "dec_graph_layers: 4\n",
      "dec_word_pos_embedding_name: dec_word_pos_embedding\n",
      "enc_graph_layers: 2\n",
      "enc_sen_pos_embedding_name: enc_sen_pos_embedding\n",
      "enc_word_layers: 2\n",
      "enc_word_pos_embedding_name: enc_word_pos_embedding\n",
      "hidden_act: relu\n",
      "hidden_dropout_prob: 0.1\n",
      "hidden_size: 256\n",
      "initializer_range: 0.02\n",
      "max_position_embeddings: 512\n",
      "num_attention_heads: 8\n",
      "postprocess_command: da\n",
      "preprocess_command: n\n",
      "word_embedding_name: word_embedding\n",
      "------------------------------------------------\n"
     ]
    },
    {
     "name": "stderr",
     "output_type": "stream",
     "text": [
      "[2020-12-22 11:51:23,725 INFO] args.is_distributed: False\n",
      "!!! The CPU_NUM is not specified, you should set CPU_NUM in the environment variable list.\n",
      "CPU_NUM indicates that how many CPUPlace are used in the current task.\n",
      "And if this parameter are set as N (equal to the number of physical CPU core) the program may be faster.\n",
      "\n",
      "export CPU_NUM=12 # for example, set CPU_NUM as number of physical CPU core which is 12.\n",
      "\n",
      "!!! The default number of CPU_NUM=1.\n",
      "[2020-12-22 11:51:24,897 INFO] finished\n",
      "[2020-12-22 11:51:24,904 INFO] Loading dataset from E:/graphsum/data/MultiNews_data_tfidf_30_paddle/local_test\\MultiNews.30.test.0.json, number of examples: 10\n",
      "[2020-12-22 11:51:24,905 INFO] Final test result:\n",
      "[2020-12-22 11:51:24,957 INFO] {'BOS': 4, 'EOS': 5, 'PAD': 6, 'EOT': 3, 'EOP': 7, 'EOQ': 8, 'UNK': 0}\n"
     ]
    },
    {
     "name": "stdout",
     "output_type": "stream",
     "text": [
      "Load model from E:/graphsum/data/pretrained_model/step_42976\n",
      "Following params not existed in the params file:\n",
      "['duplicated_trigram_blocking_delta_score_out', 'duplicated_trigram_blocking_id2is_full_token']\n",
      "E:/graphsum/data/MultiNews_data_tfidf_30_paddle/local_test\n"
     ]
    }
   ],
   "source": [
    "%run ./src/run.py  --model_name \"graphsum\" \\\n",
    "               --use_cuda false \\\n",
    "               --is_distributed false \\\n",
    "               --use_multi_gpu_test true \\\n",
    "               --use_fast_executor false \\\n",
    "               --use_fp16 false \\\n",
    "               --use_dynamic_loss_scaling false \\\n",
    "               --init_loss_scaling -128 \\\n",
    "               --weight_sharing true \\\n",
    "               --do_train false \\\n",
    "               --do_val false \\\n",
    "               --do_test true \\\n",
    "               --do_dec true \\\n",
    "               --verbose true \\\n",
    "               --batch_size 512 \\\n",
    "               --in_tokens true \\\n",
    "               --stream_job \"\" \\\n",
    "               --init_pretraining_params \"\" \\\n",
    "               --init_checkpoint \"E:/graphsum/data/pretrained_model/step_42976\" \\\n",
    "               --train_set \"E:/graphsum/data/MultiNews_data_tfidf_30_paddle/local_train\" \\\n",
    "               --dev_set \"E:/graphsum/data/MultiNews_data_tfidf_30_paddle/local_valid\" \\\n",
    "               --test_set \"E:/graphsum/data/MultiNews_data_tfidf_30_paddle/local_test\" \\\n",
    "               --vocab_path \"E:/graphsum/data/spm9998_3.model\" \\\n",
    "               --config_path ./model_config/graphsum_config_small.json \\\n",
    "               --checkpoints ./models/graphsum_multinews \\\n",
    "               --decode_path ./results/graphsum_multinews \\\n",
    "               --lr_scheduler \"noam_decay\" \\\n",
    "               --save_steps 100 \\\n",
    "               --weight_decay 0.01 \\\n",
    "               --warmup_steps 2 \\\n",
    "               --validation_steps 100 \\\n",
    "               --epoch 1 \\\n",
    "               --beam_size 2 \\\n",
    "               --max_para_num 30 \\\n",
    "               --max_para_len 60 \\\n",
    "               --max_tgt_len 15 \\\n",
    "               --max_out_len 300 \\\n",
    "               --min_out_len 200 \\\n",
    "               --graph_type \"similarity\" \\\n",
    "               --len_penalty 0.6 \\\n",
    "               --block_trigram True \\\n",
    "               --report_rouge False \\\n",
    "               --learning_rate 2.0 \\\n",
    "               --skip_steps 10 \\\n",
    "               --grad_norm 2.0 \\\n",
    "               --pos_win 2.0 \\\n",
    "               --label_smooth_eps 0.1 \\\n",
    "               --num_iteration_per_drop_scope 10 \\\n",
    "               --log_file \"log/graphsum_multinews_test.log\" \\\n",
    "               --random_seed 1"
   ]
  },
  {
   "cell_type": "code",
   "execution_count": null,
   "metadata": {},
   "outputs": [],
   "source": []
  }
 ],
 "metadata": {
  "kernelspec": {
   "display_name": "Python 3",
   "language": "python",
   "name": "python3"
  },
  "language_info": {
   "codemirror_mode": {
    "name": "ipython",
    "version": 3
   },
   "file_extension": ".py",
   "mimetype": "text/x-python",
   "name": "python",
   "nbconvert_exporter": "python",
   "pygments_lexer": "ipython3",
   "version": "3.7.2"
  }
 },
 "nbformat": 4,
 "nbformat_minor": 4
}
