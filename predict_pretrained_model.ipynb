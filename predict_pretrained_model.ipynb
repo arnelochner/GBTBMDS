{
 "cells": [
  {
   "cell_type": "code",
   "execution_count": 9,
   "metadata": {},
   "outputs": [],
   "source": [
    "!set FLAGS_fraction_of_gpu_memory_to_use=0.9"
   ]
  },
  {
   "cell_type": "code",
   "execution_count": 10,
   "metadata": {
    "scrolled": false
   },
   "outputs": [
    {
     "name": "stderr",
     "output_type": "stream",
     "text": [
      "[2021-01-27 17:35:53,822 INFO] {'BOS': 4, 'EOS': 5, 'PAD': 6, 'EOT': 3, 'EOP': 7, 'EOQ': 8, 'UNK': 0}\n"
     ]
    },
    {
     "name": "stdout",
     "output_type": "stream",
     "text": [
      "attention_probs_dropout_prob: 0.1\n",
      "dec_graph_layers: 4\n",
      "dec_word_pos_embedding_name: dec_word_pos_embedding\n",
      "enc_graph_layers: 2\n",
      "enc_sen_pos_embedding_name: enc_sen_pos_embedding\n",
      "enc_word_layers: 2\n",
      "enc_word_pos_embedding_name: enc_word_pos_embedding\n",
      "hidden_act: relu\n",
      "hidden_dropout_prob: 0.1\n",
      "hidden_size: 256\n",
      "initializer_range: 0.02\n",
      "max_position_embeddings: 512\n",
      "num_attention_heads: 8\n",
      "postprocess_command: da\n",
      "preprocess_command: n\n",
      "word_embedding_name: word_embedding\n",
      "------------------------------------------------\n"
     ]
    },
    {
     "ename": "FileNotFoundError",
     "evalue": "[Errno 2] No such file or directory: './data/MultiNews_data_tfidf_30_paddle/maximal_number_textual_units'",
     "output_type": "error",
     "traceback": [
      "\u001B[0;31m---------------------------------------------------------------------------\u001B[0m",
      "\u001B[0;31mFileNotFoundError\u001B[0m                         Traceback (most recent call last)",
      "\u001B[0;32m~/GBTBMDS/src/run.py\u001B[0m in \u001B[0;36m<module>\u001B[0;34m\u001B[0m\n\u001B[1;32m     36\u001B[0m \u001B[0;34m\u001B[0m\u001B[0m\n\u001B[1;32m     37\u001B[0m     \u001B[0;32mif\u001B[0m \u001B[0margs\u001B[0m\u001B[0;34m.\u001B[0m\u001B[0mmodel_name\u001B[0m \u001B[0;34m==\u001B[0m \u001B[0;34m'graphsum'\u001B[0m\u001B[0;34m:\u001B[0m\u001B[0;34m\u001B[0m\u001B[0;34m\u001B[0m\u001B[0m\n\u001B[0;32m---> 38\u001B[0;31m         \u001B[0mrun_graphsum\u001B[0m\u001B[0;34m(\u001B[0m\u001B[0margs\u001B[0m\u001B[0;34m)\u001B[0m\u001B[0;34m\u001B[0m\u001B[0;34m\u001B[0m\u001B[0m\n\u001B[0m\u001B[1;32m     39\u001B[0m     \u001B[0;32melse\u001B[0m\u001B[0;34m:\u001B[0m\u001B[0;34m\u001B[0m\u001B[0;34m\u001B[0m\u001B[0m\n\u001B[1;32m     40\u001B[0m         raise ValueError(\"Model %s is not supported currently!\" %\n",
      "\u001B[0;32m~/GBTBMDS/src/networks/graphsum/run_graphsum.py\u001B[0m in \u001B[0;36mmain\u001B[0;34m(args)\u001B[0m\n\u001B[1;32m     89\u001B[0m                              \u001B[0mbos_idx\u001B[0m\u001B[0;34m=\u001B[0m\u001B[0msymbols\u001B[0m\u001B[0;34m[\u001B[0m\u001B[0;34m'BOS'\u001B[0m\u001B[0;34m]\u001B[0m\u001B[0;34m,\u001B[0m\u001B[0;34m\u001B[0m\u001B[0;34m\u001B[0m\u001B[0m\n\u001B[1;32m     90\u001B[0m                              \u001B[0meos_idx\u001B[0m\u001B[0;34m=\u001B[0m\u001B[0msymbols\u001B[0m\u001B[0;34m[\u001B[0m\u001B[0;34m'EOS'\u001B[0m\u001B[0;34m]\u001B[0m\u001B[0;34m,\u001B[0m\u001B[0;34m\u001B[0m\u001B[0;34m\u001B[0m\u001B[0m\n\u001B[0;32m---> 91\u001B[0;31m                              tokenizer=spm)\n\u001B[0m\u001B[1;32m     92\u001B[0m \u001B[0;34m\u001B[0m\u001B[0m\n\u001B[1;32m     93\u001B[0m     reader = task_reader.GraphSumReader(\n",
      "\u001B[0;32m~/GBTBMDS/src/networks/graphsum/graphsum_model.py\u001B[0m in \u001B[0;36m__init__\u001B[0;34m(self, args, config, padding_idx, bos_idx, eos_idx, tokenizer)\u001B[0m\n\u001B[1;32m    110\u001B[0m         \u001B[0mself\u001B[0m\u001B[0;34m.\u001B[0m\u001B[0mpos_win\u001B[0m \u001B[0;34m=\u001B[0m \u001B[0margs\u001B[0m\u001B[0;34m.\u001B[0m\u001B[0mpos_win\u001B[0m\u001B[0;34m\u001B[0m\u001B[0;34m\u001B[0m\u001B[0m\n\u001B[1;32m    111\u001B[0m \u001B[0;34m\u001B[0m\u001B[0m\n\u001B[0;32m--> 112\u001B[0;31m         \u001B[0mself\u001B[0m\u001B[0;34m.\u001B[0m\u001B[0m_load_meta_information\u001B[0m\u001B[0;34m(\u001B[0m\u001B[0;34m)\u001B[0m\u001B[0;34m\u001B[0m\u001B[0;34m\u001B[0m\u001B[0m\n\u001B[0m\u001B[1;32m    113\u001B[0m \u001B[0;34m\u001B[0m\u001B[0m\n\u001B[1;32m    114\u001B[0m     \u001B[0;32mdef\u001B[0m \u001B[0m_load_meta_information\u001B[0m\u001B[0;34m(\u001B[0m\u001B[0mself\u001B[0m\u001B[0;34m)\u001B[0m\u001B[0;34m:\u001B[0m\u001B[0;34m\u001B[0m\u001B[0;34m\u001B[0m\u001B[0m\n",
      "\u001B[0;32m~/GBTBMDS/src/networks/graphsum/graphsum_model.py\u001B[0m in \u001B[0;36m_load_meta_information\u001B[0;34m(self)\u001B[0m\n\u001B[1;32m    115\u001B[0m \u001B[0;34m\u001B[0m\u001B[0m\n\u001B[1;32m    116\u001B[0m         tmp = json.load(\n\u001B[0;32m--> 117\u001B[0;31m             open(os.path.dirname(self.args.train_set) + \"/maximal_number_textual_units\"))\n\u001B[0m\u001B[1;32m    118\u001B[0m         self.max_number_of_docs = {\n\u001B[1;32m    119\u001B[0m             \"train\": tmp[\"train\"], \"do_dec\": max(tmp[\"test\"], tmp[\"valid\"])}\n",
      "\u001B[0;31mFileNotFoundError\u001B[0m: [Errno 2] No such file or directory: './data/MultiNews_data_tfidf_30_paddle/maximal_number_textual_units'"
     ]
    }
   ],
   "source": [
    "%run ./src/run.py  --model_name \"graphsum\" \\\n",
    "               --use_cuda false \\\n",
    "               --is_distributed false \\\n",
    "               --use_multi_gpu_test true \\\n",
    "               --use_fast_executor false \\\n",
    "               --use_fp16 false \\\n",
    "               --use_dynamic_loss_scaling false \\\n",
    "               --init_loss_scaling -128 \\\n",
    "               --weight_sharing true \\\n",
    "               --do_train false \\\n",
    "               --do_val false \\\n",
    "               --do_test true \\\n",
    "               --do_dec true \\\n",
    "               --verbose true \\\n",
    "               --batch_size 512 \\\n",
    "               --in_tokens true \\\n",
    "               --stream_job \"\" \\\n",
    "               --init_pretraining_params \"\" \\\n",
    "               --init_checkpoint \"./data/pretrained_model/step_42976\" \\\n",
    "               --train_set \"./data/MultiNews_data_tfidf_30_paddle/local_train\" \\\n",
    "               --dev_set \"./data/MultiNews_data_tfidf_30_paddle/local_valid\" \\\n",
    "               --test_set \"./data/MultiNews_data_tfidf_30_paddle/local_test\" \\\n",
    "               --vocab_path \"./data/spm9998_3.model\" \\\n",
    "               --config_path ./model_config/graphsum_config_small.json \\\n",
    "               --checkpoints ./models/graphsum_multinews \\\n",
    "               --decode_path ./results/graphsum_multinews \\\n",
    "               --lr_scheduler \"noam_decay\" \\\n",
    "               --save_steps 100 \\\n",
    "               --weight_decay 0.01 \\\n",
    "               --warmup_steps 2 \\\n",
    "               --validation_steps 100 \\\n",
    "               --epoch 1 \\\n",
    "               --beam_size 2 \\\n",
    "               --max_para_num 30 \\\n",
    "               --max_para_len 60 \\\n",
    "               --max_tgt_len 15 \\\n",
    "               --max_out_len 300 \\\n",
    "               --min_out_len 200 \\\n",
    "               --graph_type \"similarity\" \\\n",
    "               --len_penalty 0.6 \\\n",
    "               --block_trigram True \\\n",
    "               --report_rouge False \\\n",
    "               --learning_rate 2.0 \\\n",
    "               --skip_steps 10 \\\n",
    "               --grad_norm 2.0 \\\n",
    "               --pos_win 2.0 \\\n",
    "               --label_smooth_eps 0.1 \\\n",
    "               --num_iteration_per_drop_scope 10 \\\n",
    "               --log_file \"log/graphsum_multinews_test.log\" \\\n",
    "               --random_seed 1"
   ]
  },
  {
   "cell_type": "code",
   "execution_count": 10,
   "metadata": {},
   "outputs": [],
   "source": []
  }
 ],
 "metadata": {
  "kernelspec": {
   "display_name": "Python 3",
   "language": "python",
   "name": "python3"
  },
  "language_info": {
   "codemirror_mode": {
    "name": "ipython",
    "version": 3
   },
   "file_extension": ".py",
   "mimetype": "text/x-python",
   "name": "python",
   "nbconvert_exporter": "python",
   "pygments_lexer": "ipython3",
   "version": "3.7.2"
  }
 },
 "nbformat": 4,
 "nbformat_minor": 4
}