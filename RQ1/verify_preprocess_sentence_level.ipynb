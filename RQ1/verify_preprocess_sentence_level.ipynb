{
 "cells": [
  {
   "cell_type": "code",
   "execution_count": 1,
   "metadata": {},
   "outputs": [],
   "source": [
    "import json"
   ]
  },
  {
   "cell_type": "code",
   "execution_count": 3,
   "metadata": {},
   "outputs": [],
   "source": [
    "json_test = json.load(open(r\"E:\\graphsum\\data\\MultiNews_data_tfidf_paddle_sentence\\new_test\\MultiNews.30.test.0.json\", encoding=\"utf-8\"))"
   ]
  },
  {
   "cell_type": "code",
   "execution_count": 9,
   "metadata": {},
   "outputs": [
    {
     "data": {
      "text/plain": [
       "[\"voters in 11 states will pick their governors tonight , and republicans appear on track to increase their numbers by at least one , with the potential to extend their hold to more than two-thirds of the nation ' s top state offices .\",\n",
       " 'eight of the gubernatorial seats up for grabs are now held by democrats ; three are in republican hands .',\n",
       " \" republicans currently hold 29 governorships , democrats have 20 , and rhode island ' s gov .\",\n",
       " ' lincoln chafee is an independent .',\n",
       " \"polls and race analysts suggest that only three of tonight ' s contests are considered competitive , all in states where incumbent democratic governors aren ' t running again : montana , new hampshire and washington .\",\n",
       " 'while those state races remain too close to call , republicans are expected to wrest the north carolina governorship from democratic control , and to easily win gop-held seats in utah , north dakota and indiana .',\n",
       " 'democrats are likely to hold on to their seats in west virginia and missouri , and are expected to notch safe wins in races for seats they hold in vermont and delaware .',\n",
       " \"while the occupant of the governor ' s office is historically far less important than the party that controls the state legislature , top state officials in coming years are expected to wield significant influence in at least one major area .\",\n",
       " \"and that ' s health care , says political scientist thad kousser , co-author of the power of american governors .\",\n",
       " '\" no matter who wins the presidency , national politics is going to be stalemated on the affordable care act , \" says kousser , of the university of california , san diego .',\n",
       " 'a recent .',\n",
       " ' supreme court decision giving states the ability to opt out of the law \\' s expansion of medicaid , the federal insurance program for poor , disabled and elderly americans , confers \" incredible power \" on the states and their governors , kousser says .',\n",
       " 'just look at what happened when the obama administration in 2010 offered federal stimulus money to states to begin building a high-speed rail network .',\n",
       " ' three republican governors , including rick scott of florida and scott walker of wisconsin , rejected a share of the money citing debt and deficit concerns .',\n",
       " '\" a [ mitt ] romney victory would dramatically empower republican governors , \" kousser says .',\n",
       " 'north carolina : one-term incumbent democratic gov .',\n",
       " \" beverly perdue , the first woman to hold the state ' s top office , announced in january that she would not seek re-election after polls showed her with high disapproval ratings and trailing republican candidate pat mccrory .\",\n",
       " \"the seat is expected to be won by mccrory , a former charlotte mayor , who is facing perdue ' s lieutenant governor , walter dalton .\",\n",
       " ' mccrory lost a close race to perdue in 2008 , when then-presidential candidate barack obama became the first democrat to win north carolina in more than three decades .',\n",
       " ' the real clear politics average for the race has mccrory maintaining a .',\n",
       " '3 percentage point lead .',\n",
       " 'montana : popular democratic gov .',\n",
       " ' brian schweitzer — he won his last election with 65 percent of the vote — has reached his two-term limit .',\n",
       " \" the state ' s democratic attorney general steve bullock is trying to keep the seat in his party ' s column by associating himself with schweitzer ' s legacy .\",\n",
       " \" he ' s in a tough race with former two-term gop .\",\n",
       " ' rick hill .',\n",
       " 'new hampshire : former democratic state .',\n",
       " ' maggie hassan has also promised a continuation of the policies of her predecessor , retiring democratic gov .',\n",
       " ' john lynch .',\n",
       " ' her opponent is lawyer ovide lamontagne , a tea party conservative who ran unsuccessfully for governor in 1996 and for the .',\n",
       " ' senate in .',\n",
       " \" the national parties have invested in the campaigns , which have focused on fiscal and women ' s health care issues .\",\n",
       " \"voters in 11 states will pick their governors tonight , and republicans appear on track to increase their numbers by at least one , and with the potential to extend their hold to more than two-thirds of the nation ' s top state offices .\",\n",
       " 'eight of the gubernatorial seats up for grabs today are now held by democrats ; three are in republican hands .',\n",
       " \" republicans currently hold 29 governorships , democrats have 20 ; and rhode island ' s gov .\",\n",
       " ' lincoln chafee is an independent .',\n",
       " \"polls and race analysts suggest that only three of tonight ' s contests are considered competitive , all in states where incumbent democratic governors aren ' t running again : montana , new hampshire and washington .\",\n",
       " 'while those state races remain too close to call , republicans are expected to wrest the north carolina governorship from democratic control , and to easily win gop-held seats in utah , north dakota and indiana .',\n",
       " 'democrats are likely hold on to their seats in west virginia and missouri ; and expected to notch safe wins in races for seats they hold in vermont and delaware .',\n",
       " \"while the occupant of the governor ' s office is historically far less important than the party that controls the state legislature , top state officials in coming years are expected to wield significant influence in at least one major area .\",\n",
       " \"and that ' s health care , says political scientist thad kousser , co-author of the power of american governors .\",\n",
       " '\" no matter who wins the presidency , national politics is going to be stalemated on the affordable care act , \" says kousser , of the university of california-berkeley .',\n",
       " 'a recent .',\n",
       " ' supreme court decision giving states the ability to opt out of the law \\' s expansion of medicaid , the federal insurance program for poor , disabled and elderly americans , confers \" incredible power \" on the states and their governors , kousser says .',\n",
       " 'just look at what happened when the obama administration in 2010 offered federal stimulus money to states to begin building a high-speed rail network .',\n",
       " ' three republican governors , including rick scott of florida and scott walker of wisconsin , rejected a share of the money citing debt and deficit concerns .',\n",
       " '\" a [ mitt ] romney victory would dramatically empower republican governors , \" kousser says .',\n",
       " 'north carolina : one-term incumbent democratic gov .',\n",
       " \" beverly perdue , the first woman to hold the state ' s top office , announced in january she would not seek re-election after polls showed her with high disapproval ratings and trailing republican candidate pat mccrory .\",\n",
       " \"the seat is expected to be won by mccrory , a former charlotte mayor , who is facing perdue ' s lieutenant governor , walter dalton .\",\n",
       " ' mccrory lost a close race to perdue in 2008 , when then-presidential candidate barack obama became the first democrat to win north carolina in more than three decades .',\n",
       " ' the real clear politics average for the race has mccrory maintaining a .',\n",
       " '3 percentage point lead .',\n",
       " 'montana : popular democratic gov .',\n",
       " ' brian schweitzer — he won his last election with 65 percent of the vote — has reached his two-term limit .',\n",
       " \" the state ' s democratic attorney general steve bullock is trying to keep the seat in his party ' s column by associating himself with schweitzer ' s legacy .\",\n",
       " \" he ' s in a tough race with former two-term gop .\",\n",
       " ' rick hill .',\n",
       " 'new hampshire : former democratic state .',\n",
       " ' maggie hassan has also promised a continuation of the policies of her predecessor , retiring democratic gov .',\n",
       " ' john lynch .',\n",
       " ' her opponent is lawyer ovide lamontagne , a tea party conservative who ran unsuccessfully for governor in 1996 and for the .',\n",
       " ' senate in .',\n",
       " \" the national parties have invested in the campaigns , which have focused on fiscal and women ' s health care issues .\"]"
      ]
     },
     "execution_count": 9,
     "metadata": {},
     "output_type": "execute_result"
    }
   ],
   "source": [
    "json_test[0][\"src_str\"]"
   ]
  },
  {
   "cell_type": "code",
   "execution_count": null,
   "metadata": {},
   "outputs": [],
   "source": []
  }
 ],
 "metadata": {
  "kernelspec": {
   "display_name": "Python 3",
   "language": "python",
   "name": "python3"
  },
  "language_info": {
   "codemirror_mode": {
    "name": "ipython",
    "version": 3
   },
   "file_extension": ".py",
   "mimetype": "text/x-python",
   "name": "python",
   "nbconvert_exporter": "python",
   "pygments_lexer": "ipython3",
   "version": "3.7.2"
  }
 },
 "nbformat": 4,
 "nbformat_minor": 4
}
