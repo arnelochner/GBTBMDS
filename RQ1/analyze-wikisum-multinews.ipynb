{
 "cells": [
  {
   "cell_type": "code",
   "execution_count": 14,
   "metadata": {},
   "outputs": [],
   "source": [
    "import json\n",
    "import numpy as np\n",
    "import sentencepiece\n",
    "import torch\n",
    "from itertools import groupby"
   ]
  },
  {
   "cell_type": "code",
   "execution_count": 18,
   "metadata": {},
   "outputs": [
    {
     "data": {
      "text/plain": [
       "True"
      ]
     },
     "execution_count": 18,
     "metadata": {},
     "output_type": "execute_result"
    }
   ],
   "source": [
    "spm = sentencepiece.SentencePieceProcessor()\n",
    "spm.load(r\"E:\\graphsum\\data\\spm9998_3.model\")\n"
   ]
  },
  {
   "cell_type": "code",
   "execution_count": 2,
   "metadata": {},
   "outputs": [],
   "source": [
    "raw_wikisum = torch.load(r\"E:\\graphsum\\data\\ranked_wiki_b40\\WIKI.test.0.pt\")"
   ]
  },
  {
   "cell_type": "code",
   "execution_count": 16,
   "metadata": {},
   "outputs": [],
   "source": [
    "wikisum = json.load(open(r\"E:\\graphsum\\data\\WikiSum_data_tfidf_paddle\\train\\WIKI.train.0.json\", encoding=\"utf-8\"))\n",
    "\n",
    "multinews = json.load(open(r\"E:\\graphsum\\data\\MultiNews_data_tfidf_30_paddle\\train\\MultiNews.30.train.0.json\", encoding=\"utf-8\"))\n",
    "\n",
    "\n",
    "#graphsum_para = json.load(open(r\"E:\\graphsum\\data\\MultiNews_data_tfidf_30_paddle\\test\\MultiNews.30.test.0.json\", encoding=\"utf-8\"))\n",
    "\n",
    "\n",
    "sent_multinews = json.load(open(r\"E:\\graphsum\\data\\check_preprocessing\\sent_MultiNews.30.test.0.json\", encoding=\"utf-8\"))"
   ]
  },
  {
   "cell_type": "code",
   "execution_count": 19,
   "metadata": {},
   "outputs": [],
   "source": [
    "src_token_ids = [list(group) + [11] for l in wikisum[0][\"src\"] for k,\n",
    "                             group in groupby(l, lambda x: x == 11) if not k]\n",
    "\n",
    "src_filtered_short = [[spm.decode_ids(\n",
    "                [token]) for token in sent] for sent in src_token_ids]"
   ]
  },
  {
   "cell_type": "code",
   "execution_count": 27,
   "metadata": {
    "scrolled": true
   },
   "outputs": [
    {
     "data": {
      "text/plain": [
       "dict_keys(['src', 'tgt', 'src_str', 'tgt_str', 'sim_graph'])"
      ]
     },
     "execution_count": 27,
     "metadata": {},
     "output_type": "execute_result"
    }
   ],
   "source": [
    "wikisum[0].keys()"
   ]
  },
  {
   "cell_type": "code",
   "execution_count": null,
   "metadata": {},
   "outputs": [],
   "source": []
  }
 ],
 "metadata": {
  "kernelspec": {
   "display_name": "Python 3.7.2 64-bit",
   "language": "python",
   "name": "python37264bitb758941065764c65be30b5af71a2fbcf"
  },
  "language_info": {
   "codemirror_mode": {
    "name": "ipython",
    "version": 3
   },
   "file_extension": ".py",
   "mimetype": "text/x-python",
   "name": "python",
   "nbconvert_exporter": "python",
   "pygments_lexer": "ipython3",
   "version": "3.7.2"
  }
 },
 "nbformat": 4,
 "nbformat_minor": 4
}
